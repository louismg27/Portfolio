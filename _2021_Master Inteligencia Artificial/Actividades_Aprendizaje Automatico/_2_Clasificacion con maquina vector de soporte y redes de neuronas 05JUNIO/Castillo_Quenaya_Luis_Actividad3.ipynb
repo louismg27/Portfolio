{
 "cells": [
  {
   "cell_type": "markdown",
   "metadata": {},
   "source": [
    "# ANALISIS EXPLORATORIO"
   ]
  },
  {
   "cell_type": "code",
   "execution_count": 37,
   "metadata": {},
   "outputs": [],
   "source": [
    "#Cargamos librerias\n",
    "library(caTools)\n",
    "library(caret)\n",
    "library(corrplot)\n",
    "library(CatEncoders)\n",
    "library(neuralnet)\n",
    "library(e1071)"
   ]
  },
  {
   "cell_type": "code",
   "execution_count": 38,
   "metadata": {},
   "outputs": [],
   "source": [
    "set.seed(1)\n",
    "#Leer el archivo, donde los datos vacios se rellenan de NA's\n",
    "mobileData = read.csv(\"train.csv\", header = TRUE,sep=\",\", na.strings=\"NA\") #"
   ]
  },
  {
   "cell_type": "markdown",
   "metadata": {},
   "source": [
    "## Deteccion de valores nulos"
   ]
  },
  {
   "cell_type": "code",
   "execution_count": 39,
   "metadata": {},
   "outputs": [
    {
     "data": {
      "text/html": [
       "0"
      ],
      "text/latex": [
       "0"
      ],
      "text/markdown": [
       "0"
      ],
      "text/plain": [
       "[1] 0"
      ]
     },
     "metadata": {},
     "output_type": "display_data"
    }
   ],
   "source": [
    "sum(is.na(mobileData)) #Contamos los valores nulos"
   ]
  },
  {
   "cell_type": "markdown",
   "metadata": {},
   "source": [
    "- Se observa que no existe valores nulos, por lo que no habran que realizar ningun reemplazo por la media, mediana o moda."
   ]
  },
  {
   "cell_type": "code",
   "execution_count": 40,
   "metadata": {},
   "outputs": [
    {
     "name": "stdout",
     "output_type": "stream",
     "text": [
      "'data.frame':\t2000 obs. of  21 variables:\n",
      " $ battery_power: int  842 1021 563 615 1821 1859 1821 1954 1445 509 ...\n",
      " $ blue         : int  0 1 1 1 1 0 0 0 1 1 ...\n",
      " $ clock_speed  : num  2.2 0.5 0.5 2.5 1.2 0.5 1.7 0.5 0.5 0.6 ...\n",
      " $ dual_sim     : int  0 1 1 0 0 1 0 1 0 1 ...\n",
      " $ fc           : int  1 0 2 0 13 3 4 0 0 2 ...\n",
      " $ four_g       : int  0 1 1 0 1 0 1 0 0 1 ...\n",
      " $ int_memory   : int  7 53 41 10 44 22 10 24 53 9 ...\n",
      " $ m_dep        : num  0.6 0.7 0.9 0.8 0.6 0.7 0.8 0.8 0.7 0.1 ...\n",
      " $ mobile_wt    : int  188 136 145 131 141 164 139 187 174 93 ...\n",
      " $ n_cores      : int  2 3 5 6 2 1 8 4 7 5 ...\n",
      " $ pc           : int  2 6 6 9 14 7 10 0 14 15 ...\n",
      " $ px_height    : int  20 905 1263 1216 1208 1004 381 512 386 1137 ...\n",
      " $ px_width     : int  756 1988 1716 1786 1212 1654 1018 1149 836 1224 ...\n",
      " $ ram          : int  2549 2631 2603 2769 1411 1067 3220 700 1099 513 ...\n",
      " $ sc_h         : int  9 17 11 16 8 17 13 16 17 19 ...\n",
      " $ sc_w         : int  7 3 2 8 2 1 8 3 1 10 ...\n",
      " $ talk_time    : int  19 7 9 11 15 10 18 5 20 12 ...\n",
      " $ three_g      : int  0 1 1 1 1 1 1 1 1 1 ...\n",
      " $ touch_screen : int  0 1 1 0 1 0 0 1 0 0 ...\n",
      " $ wifi         : int  1 0 0 0 0 0 1 1 0 0 ...\n",
      " $ price_range  : int  1 2 2 2 1 1 3 0 0 0 ...\n"
     ]
    }
   ],
   "source": [
    "str(mobileData)"
   ]
  },
  {
   "cell_type": "markdown",
   "metadata": {},
   "source": [
    " - Observamos que todos los datos son de tipos numericos, por lo que no habra necesidad de realizar una conversion de categorico a numerico."
   ]
  },
  {
   "cell_type": "markdown",
   "metadata": {},
   "source": [
    "## Correlacion y Covarianza"
   ]
  },
  {
   "cell_type": "code",
   "execution_count": 41,
   "metadata": {},
   "outputs": [
    {
     "data": {
      "image/png": "[encoded data removed]",
      "text/plain": [
       "Plot with title \"\""
      ]
     },
     "metadata": {},
     "output_type": "display_data"
    }
   ],
   "source": [
    "#Graficamos el mapa de calor para analizar la correlacion y covarianza\n",
    "library(corrplot)\n",
    "corrplot(cor(mobileData), type=\"upper\", order=\"hclust\", method=\"square\")"
   ]
  },
  {
   "cell_type": "markdown",
   "metadata": {},
   "source": [
    "- Del Mapa de Calor, observamos que existen variables con alta correlacion, por lo tanto para mayor detalle verificamos su dependencia, mediante la correlacion y covarianza.\n",
    "\n",
    "**Correlacion alta entre variables independientes**"
   ]
  },
  {
   "cell_type": "code",
   "execution_count": 42,
   "metadata": {},
   "outputs": [
    {
     "data": {
      "text/html": [
       "<table>\n",
       "<thead><tr><th scope=col>price_range</th></tr></thead>\n",
       "<tbody>\n",
       "\t<tr><td>1</td></tr>\n",
       "</tbody>\n",
       "</table>\n"
      ],
      "text/latex": [
       "\\begin{tabular}{l}\n",
       " price\\_range\\\\\n",
       "\\hline\n",
       "\t 1\\\\\n",
       "\\end{tabular}\n"
      ],
      "text/markdown": [
       "\n",
       "| price_range |\n",
       "|---|\n",
       "| 1 |\n",
       "\n"
      ],
      "text/plain": [
       "     price_range\n",
       "[1,] 1          "
      ]
     },
     "metadata": {},
     "output_type": "display_data"
    }
   ],
   "source": [
    "library(caret)\n",
    "#Hallamos la matriz de correlacion\n",
    "correlationMatrix <- cor(mobileData[,])\n",
    "#Filtramos las columnas que tenga una correlacion superior a 0.8\n",
    "highlyCorrelated <- findCorrelation(correlationMatrix, cutoff=0.80)\n",
    "cor(mobileData$price_range  , mobileData[highlyCorrelated], method = \"pearson\") "
   ]
  },
  {
   "cell_type": "markdown",
   "metadata": {},
   "source": [
    "- A pesar que no existe altas correlaciones entre variables, calculamos la covarianza de las variables que visualmente segun el mapa de calor se encuentra en un alto rango, de tal forma que podamos descartar dependencias entre variables, los cuales son: **\"four_g\",\"sc_h\",\"px_height\",\"fc\"**"
   ]
  },
  {
   "cell_type": "markdown",
   "metadata": {},
   "source": [
    "**Covarianza entre variables independientes**"
   ]
  },
  {
   "cell_type": "code",
   "execution_count": 43,
   "metadata": {},
   "outputs": [
    {
     "data": {
      "text/html": [
       "<dl class=dl-horizontal>\n",
       "\t<dt>battery_power</dt>\n",
       "\t\t<dd>3.43932191095548</dd>\n",
       "\t<dt>blue</dt>\n",
       "\t\t<dd>0.0033591795897949</dd>\n",
       "\t<dt>clock_speed</dt>\n",
       "\t\t<dd>-0.017562156078039</dd>\n",
       "\t<dt>dual_sim</dt>\n",
       "\t\t<dd>0.000796148074037019</dd>\n",
       "\t<dt>fc</dt>\n",
       "\t\t<dd>-0.0359222111055528</dd>\n",
       "\t<dt>four_g</dt>\n",
       "\t\t<dd>0.249662581290645</dd>\n",
       "\t<dt>int_memory</dt>\n",
       "\t\t<dd>0.0787896448224112</dd>\n",
       "\t<dt>m_dep</dt>\n",
       "\t\t<dd>-0.000262756378189094</dd>\n",
       "\t<dt>mobile_wt</dt>\n",
       "\t\t<dd>-0.292499749874937</dd>\n",
       "\t<dt>n_cores</dt>\n",
       "\t\t<dd>-0.0339577288644322</dd>\n",
       "\t<dt>pc</dt>\n",
       "\t\t<dd>-0.0169632316158079</dd>\n",
       "\t<dt>px_height</dt>\n",
       "\t\t<dd>-4.26545472736368</dd>\n",
       "\t<dt>px_width</dt>\n",
       "\t\t<dd>1.60847098549275</dd>\n",
       "\t<dt>ram</dt>\n",
       "\t\t<dd>3.96390245122561</dd>\n",
       "\t<dt>sc_h</dt>\n",
       "\t\t<dd>0.0571888444222111</dd>\n",
       "\t<dt>sc_w</dt>\n",
       "\t\t<dd>0.0805497748874437</dd>\n",
       "\t<dt>talk_time</dt>\n",
       "\t\t<dd>-0.127300150075038</dd>\n",
       "\t<dt>three_g</dt>\n",
       "\t\t<dd>0.124439969984993</dd>\n",
       "\t<dt>touch_screen</dt>\n",
       "\t\t<dd>0.00418759379689845</dd>\n",
       "\t<dt>wifi</dt>\n",
       "\t\t<dd>-0.00440270135067534</dd>\n",
       "\t<dt>price_range</dt>\n",
       "\t\t<dd>0.00825412706353177</dd>\n",
       "</dl>\n"
      ],
      "text/latex": [
       "\\begin{description*}\n",
       "\\item[battery\\textbackslash{}\\_power] 3.43932191095548\n",
       "\\item[blue] 0.0033591795897949\n",
       "\\item[clock\\textbackslash{}\\_speed] -0.017562156078039\n",
       "\\item[dual\\textbackslash{}\\_sim] 0.000796148074037019\n",
       "\\item[fc] -0.0359222111055528\n",
       "\\item[four\\textbackslash{}\\_g] 0.249662581290645\n",
       "\\item[int\\textbackslash{}\\_memory] 0.0787896448224112\n",
       "\\item[m\\textbackslash{}\\_dep] -0.000262756378189094\n",
       "\\item[mobile\\textbackslash{}\\_wt] -0.292499749874937\n",
       "\\item[n\\textbackslash{}\\_cores] -0.0339577288644322\n",
       "\\item[pc] -0.0169632316158079\n",
       "\\item[px\\textbackslash{}\\_height] -4.26545472736368\n",
       "\\item[px\\textbackslash{}\\_width] 1.60847098549275\n",
       "\\item[ram] 3.96390245122561\n",
       "\\item[sc\\textbackslash{}\\_h] 0.0571888444222111\n",
       "\\item[sc\\textbackslash{}\\_w] 0.0805497748874437\n",
       "\\item[talk\\textbackslash{}\\_time] -0.127300150075038\n",
       "\\item[three\\textbackslash{}\\_g] 0.124439969984993\n",
       "\\item[touch\\textbackslash{}\\_screen] 0.00418759379689845\n",
       "\\item[wifi] -0.00440270135067534\n",
       "\\item[price\\textbackslash{}\\_range] 0.00825412706353177\n",
       "\\end{description*}\n"
      ],
      "text/markdown": [
       "battery_power\n",
       ":   3.43932191095548blue\n",
       ":   0.0033591795897949clock_speed\n",
       ":   -0.017562156078039dual_sim\n",
       ":   0.000796148074037019fc\n",
       ":   -0.0359222111055528four_g\n",
       ":   0.249662581290645int_memory\n",
       ":   0.0787896448224112m_dep\n",
       ":   -0.000262756378189094mobile_wt\n",
       ":   -0.292499749874937n_cores\n",
       ":   -0.0339577288644322pc\n",
       ":   -0.0169632316158079px_height\n",
       ":   -4.26545472736368px_width\n",
       ":   1.60847098549275ram\n",
       ":   3.96390245122561sc_h\n",
       ":   0.0571888444222111sc_w\n",
       ":   0.0805497748874437talk_time\n",
       ":   -0.127300150075038three_g\n",
       ":   0.124439969984993touch_screen\n",
       ":   0.00418759379689845wifi\n",
       ":   -0.00440270135067534price_range\n",
       ":   0.00825412706353177\n",
       "\n"
      ],
      "text/plain": [
       "battery_power          blue   clock_speed      dual_sim            fc \n",
       " 3.4393219110  0.0033591796 -0.0175621561  0.0007961481 -0.0359222111 \n",
       "       four_g    int_memory         m_dep     mobile_wt       n_cores \n",
       " 0.2496625813  0.0787896448 -0.0002627564 -0.2924997499 -0.0339577289 \n",
       "           pc     px_height      px_width           ram          sc_h \n",
       "-0.0169632316 -4.2654547274  1.6084709855  3.9639024512  0.0571888444 \n",
       "         sc_w     talk_time       three_g  touch_screen          wifi \n",
       " 0.0805497749 -0.1273001501  0.1244399700  0.0041875938 -0.0044027014 \n",
       "  price_range \n",
       " 0.0082541271 "
      ]
     },
     "metadata": {},
     "output_type": "display_data"
    }
   ],
   "source": [
    "cov(mobileData[,])[,which(colnames(mobileData)==\"four_g\")]"
   ]
  },
  {
   "cell_type": "code",
   "execution_count": 44,
   "metadata": {},
   "outputs": [
    {
     "data": {
      "text/html": [
       "<dl class=dl-horizontal>\n",
       "\t<dt>battery_power</dt>\n",
       "\t\t<dd>-55.4646525762881</dd>\n",
       "\t<dt>blue</dt>\n",
       "\t\t<dd>-0.00622061030515258</dd>\n",
       "\t<dt>clock_speed</dt>\n",
       "\t\t<dd>-0.0999696098049025</dd>\n",
       "\t<dt>dual_sim</dt>\n",
       "\t\t<dd>-0.0251743371685843</dd>\n",
       "\t<dt>fc</dt>\n",
       "\t\t<dd>-0.20146248124062</dd>\n",
       "\t<dt>four_g</dt>\n",
       "\t\t<dd>0.0571888444222111</dd>\n",
       "\t<dt>int_memory</dt>\n",
       "\t\t<dd>2.8876915957979</dd>\n",
       "\t<dt>m_dep</dt>\n",
       "\t\t<dd>-0.030801775887944</dd>\n",
       "\t<dt>mobile_wt</dt>\n",
       "\t\t<dd>-5.04934317158579</dd>\n",
       "\t<dt>n_cores</dt>\n",
       "\t\t<dd>-0.00303476738369185</dd>\n",
       "\t<dt>pc</dt>\n",
       "\t\t<dd>0.126155827913957</dd>\n",
       "\t<dt>px_height</dt>\n",
       "\t\t<dd>111.466131065533</dd>\n",
       "\t<dt>px_width</dt>\n",
       "\t\t<dd>39.3301643321661</dd>\n",
       "\t<dt>ram</dt>\n",
       "\t\t<dd>73.1062686343172</dd>\n",
       "\t<dt>sc_h</dt>\n",
       "\t\t<dd>17.7514334667334</dd>\n",
       "\t<dt>sc_w</dt>\n",
       "\t\t<dd>9.29005952976488</dd>\n",
       "\t<dt>talk_time</dt>\n",
       "\t\t<dd>-0.399071035517759</dd>\n",
       "\t<dt>three_g</dt>\n",
       "\t\t<dd>0.0216110555277639</dd>\n",
       "\t<dt>touch_screen</dt>\n",
       "\t\t<dd>-0.0421905952976488</dd>\n",
       "\t<dt>wifi</dt>\n",
       "\t\t<dd>0.054631815907954</dd>\n",
       "\t<dt>price_range</dt>\n",
       "\t\t<dd>0.108304152076038</dd>\n",
       "</dl>\n"
      ],
      "text/latex": [
       "\\begin{description*}\n",
       "\\item[battery\\textbackslash{}\\_power] -55.4646525762881\n",
       "\\item[blue] -0.00622061030515258\n",
       "\\item[clock\\textbackslash{}\\_speed] -0.0999696098049025\n",
       "\\item[dual\\textbackslash{}\\_sim] -0.0251743371685843\n",
       "\\item[fc] -0.20146248124062\n",
       "\\item[four\\textbackslash{}\\_g] 0.0571888444222111\n",
       "\\item[int\\textbackslash{}\\_memory] 2.8876915957979\n",
       "\\item[m\\textbackslash{}\\_dep] -0.030801775887944\n",
       "\\item[mobile\\textbackslash{}\\_wt] -5.04934317158579\n",
       "\\item[n\\textbackslash{}\\_cores] -0.00303476738369185\n",
       "\\item[pc] 0.126155827913957\n",
       "\\item[px\\textbackslash{}\\_height] 111.466131065533\n",
       "\\item[px\\textbackslash{}\\_width] 39.3301643321661\n",
       "\\item[ram] 73.1062686343172\n",
       "\\item[sc\\textbackslash{}\\_h] 17.7514334667334\n",
       "\\item[sc\\textbackslash{}\\_w] 9.29005952976488\n",
       "\\item[talk\\textbackslash{}\\_time] -0.399071035517759\n",
       "\\item[three\\textbackslash{}\\_g] 0.0216110555277639\n",
       "\\item[touch\\textbackslash{}\\_screen] -0.0421905952976488\n",
       "\\item[wifi] 0.054631815907954\n",
       "\\item[price\\textbackslash{}\\_range] 0.108304152076038\n",
       "\\end{description*}\n"
      ],
      "text/markdown": [
       "battery_power\n",
       ":   -55.4646525762881blue\n",
       ":   -0.00622061030515258clock_speed\n",
       ":   -0.0999696098049025dual_sim\n",
       ":   -0.0251743371685843fc\n",
       ":   -0.20146248124062four_g\n",
       ":   0.0571888444222111int_memory\n",
       ":   2.8876915957979m_dep\n",
       ":   -0.030801775887944mobile_wt\n",
       ":   -5.04934317158579n_cores\n",
       ":   -0.00303476738369185pc\n",
       ":   0.126155827913957px_height\n",
       ":   111.466131065533px_width\n",
       ":   39.3301643321661ram\n",
       ":   73.1062686343172sc_h\n",
       ":   17.7514334667334sc_w\n",
       ":   9.29005952976488talk_time\n",
       ":   -0.399071035517759three_g\n",
       ":   0.0216110555277639touch_screen\n",
       ":   -0.0421905952976488wifi\n",
       ":   0.054631815907954price_range\n",
       ":   0.108304152076038\n",
       "\n"
      ],
      "text/plain": [
       "battery_power          blue   clock_speed      dual_sim            fc \n",
       "-55.464652576  -0.006220610  -0.099969610  -0.025174337  -0.201462481 \n",
       "       four_g    int_memory         m_dep     mobile_wt       n_cores \n",
       "  0.057188844   2.887691596  -0.030801776  -5.049343172  -0.003034767 \n",
       "           pc     px_height      px_width           ram          sc_h \n",
       "  0.126155828 111.466131066  39.330164332  73.106268634  17.751433467 \n",
       "         sc_w     talk_time       three_g  touch_screen          wifi \n",
       "  9.290059530  -0.399071036   0.021611056  -0.042190595   0.054631816 \n",
       "  price_range \n",
       "  0.108304152 "
      ]
     },
     "metadata": {},
     "output_type": "display_data"
    }
   ],
   "source": [
    "cov(mobileData[,])[,which(colnames(mobileData)==\"sc_h\")]"
   ]
  },
  {
   "cell_type": "code",
   "execution_count": 45,
   "metadata": {},
   "outputs": [
    {
     "data": {
      "text/html": [
       "<dl class=dl-horizontal>\n",
       "\t<dt>battery_power</dt>\n",
       "\t\t<dd>2905.73687043522</dd>\n",
       "\t<dt>blue</dt>\n",
       "\t\t<dd>-1.52522261130565</dd>\n",
       "\t<dt>clock_speed</dt>\n",
       "\t\t<dd>-5.25913256628314</dd>\n",
       "\t<dt>dual_sim</dt>\n",
       "\t\t<dd>-4.63234217108554</dd>\n",
       "\t<dt>fc</dt>\n",
       "\t\t<dd>-19.2470495247624</dd>\n",
       "\t<dt>four_g</dt>\n",
       "\t\t<dd>-4.26545472736368</dd>\n",
       "\t<dt>int_memory</dt>\n",
       "\t\t<dd>84.0805182591296</dd>\n",
       "\t<dt>m_dep</dt>\n",
       "\t\t<dd>3.23347773886943</dd>\n",
       "\t<dt>mobile_wt</dt>\n",
       "\t\t<dd>14.7564862431216</dd>\n",
       "\t<dt>n_cores</dt>\n",
       "\t\t<dd>-6.97720260130065</dd>\n",
       "\t<dt>pc</dt>\n",
       "\t\t<dd>-49.6948294147074</dd>\n",
       "\t<dt>px_height</dt>\n",
       "\t\t<dd>196941.40804002</dd>\n",
       "\t<dt>px_width</dt>\n",
       "\t\t<dd>97946.3655087544</dd>\n",
       "\t<dt>ram</dt>\n",
       "\t\t<dd>-9797.07504152076</dd>\n",
       "\t<dt>sc_h</dt>\n",
       "\t\t<dd>111.466131065533</dd>\n",
       "\t<dt>sc_w</dt>\n",
       "\t\t<dd>83.2052666333167</dd>\n",
       "\t<dt>talk_time</dt>\n",
       "\t\t<dd>-25.8125942971486</dd>\n",
       "\t<dt>three_g</dt>\n",
       "\t\t<dd>-5.89719059529765</dd>\n",
       "\t<dt>touch_screen</dt>\n",
       "\t\t<dd>4.85860530265133</dd>\n",
       "\t<dt>wifi</dt>\n",
       "\t\t<dd>11.5009944972486</dd>\n",
       "\t<dt>price_range</dt>\n",
       "\t\t<dd>73.8759379689845</dd>\n",
       "</dl>\n"
      ],
      "text/latex": [
       "\\begin{description*}\n",
       "\\item[battery\\textbackslash{}\\_power] 2905.73687043522\n",
       "\\item[blue] -1.52522261130565\n",
       "\\item[clock\\textbackslash{}\\_speed] -5.25913256628314\n",
       "\\item[dual\\textbackslash{}\\_sim] -4.63234217108554\n",
       "\\item[fc] -19.2470495247624\n",
       "\\item[four\\textbackslash{}\\_g] -4.26545472736368\n",
       "\\item[int\\textbackslash{}\\_memory] 84.0805182591296\n",
       "\\item[m\\textbackslash{}\\_dep] 3.23347773886943\n",
       "\\item[mobile\\textbackslash{}\\_wt] 14.7564862431216\n",
       "\\item[n\\textbackslash{}\\_cores] -6.97720260130065\n",
       "\\item[pc] -49.6948294147074\n",
       "\\item[px\\textbackslash{}\\_height] 196941.40804002\n",
       "\\item[px\\textbackslash{}\\_width] 97946.3655087544\n",
       "\\item[ram] -9797.07504152076\n",
       "\\item[sc\\textbackslash{}\\_h] 111.466131065533\n",
       "\\item[sc\\textbackslash{}\\_w] 83.2052666333167\n",
       "\\item[talk\\textbackslash{}\\_time] -25.8125942971486\n",
       "\\item[three\\textbackslash{}\\_g] -5.89719059529765\n",
       "\\item[touch\\textbackslash{}\\_screen] 4.85860530265133\n",
       "\\item[wifi] 11.5009944972486\n",
       "\\item[price\\textbackslash{}\\_range] 73.8759379689845\n",
       "\\end{description*}\n"
      ],
      "text/markdown": [
       "battery_power\n",
       ":   2905.73687043522blue\n",
       ":   -1.52522261130565clock_speed\n",
       ":   -5.25913256628314dual_sim\n",
       ":   -4.63234217108554fc\n",
       ":   -19.2470495247624four_g\n",
       ":   -4.26545472736368int_memory\n",
       ":   84.0805182591296m_dep\n",
       ":   3.23347773886943mobile_wt\n",
       ":   14.7564862431216n_cores\n",
       ":   -6.97720260130065pc\n",
       ":   -49.6948294147074px_height\n",
       ":   196941.40804002px_width\n",
       ":   97946.3655087544ram\n",
       ":   -9797.07504152076sc_h\n",
       ":   111.466131065533sc_w\n",
       ":   83.2052666333167talk_time\n",
       ":   -25.8125942971486three_g\n",
       ":   -5.89719059529765touch_screen\n",
       ":   4.85860530265133wifi\n",
       ":   11.5009944972486price_range\n",
       ":   73.8759379689845\n",
       "\n"
      ],
      "text/plain": [
       "battery_power          blue   clock_speed      dual_sim            fc \n",
       "  2905.736870     -1.525223     -5.259133     -4.632342    -19.247050 \n",
       "       four_g    int_memory         m_dep     mobile_wt       n_cores \n",
       "    -4.265455     84.080518      3.233478     14.756486     -6.977203 \n",
       "           pc     px_height      px_width           ram          sc_h \n",
       "   -49.694829 196941.408040  97946.365509  -9797.075042    111.466131 \n",
       "         sc_w     talk_time       three_g  touch_screen          wifi \n",
       "    83.205267    -25.812594     -5.897191      4.858605     11.500994 \n",
       "  price_range \n",
       "    73.875938 "
      ]
     },
     "metadata": {},
     "output_type": "display_data"
    }
   ],
   "source": [
    "cov(mobileData[,])[,which(colnames(mobileData)==\"px_height\")]"
   ]
  },
  {
   "cell_type": "code",
   "execution_count": 46,
   "metadata": {},
   "outputs": [
    {
     "data": {
      "text/html": [
       "<dl class=dl-horizontal>\n",
       "\t<dt>battery_power</dt>\n",
       "\t\t<dd>63.5923204102051</dd>\n",
       "\t<dt>blue</dt>\n",
       "\t\t<dd>0.00780140070035018</dd>\n",
       "\t<dt>clock_speed</dt>\n",
       "\t\t<dd>-0.00153714357178589</dd>\n",
       "\t<dt>dual_sim</dt>\n",
       "\t\t<dd>-0.0632218609304652</dd>\n",
       "\t<dt>fc</dt>\n",
       "\t\t<dd>18.8481338169085</dd>\n",
       "\t<dt>four_g</dt>\n",
       "\t\t<dd>-0.0359222111055528</dd>\n",
       "\t<dt>int_memory</dt>\n",
       "\t\t<dd>-2.29503926963482</dd>\n",
       "\t<dt>m_dep</dt>\n",
       "\t\t<dd>-0.00224274637318659</dd>\n",
       "\t<dt>mobile_wt</dt>\n",
       "\t\t<dd>3.62974937468734</dd>\n",
       "\t<dt>n_cores</dt>\n",
       "\t\t<dd>-0.13266108054027</dd>\n",
       "\t<dt>pc</dt>\n",
       "\t\t<dd>16.9708286643322</dd>\n",
       "\t<dt>px_height</dt>\n",
       "\t\t<dd>-19.2470495247624</dd>\n",
       "\t<dt>px_width</dt>\n",
       "\t\t<dd>-9.71140295147574</dd>\n",
       "\t<dt>ram</dt>\n",
       "\t\t<dd>71.1056293146573</dd>\n",
       "\t<dt>sc_h</dt>\n",
       "\t\t<dd>-0.20146248124062</dd>\n",
       "\t<dt>sc_w</dt>\n",
       "\t\t<dd>-0.234003501750875</dd>\n",
       "\t<dt>talk_time</dt>\n",
       "\t\t<dd>-0.161985492746373</dd>\n",
       "\t<dt>three_g</dt>\n",
       "\t\t<dd>0.00331740870435218</dd>\n",
       "\t<dt>touch_screen</dt>\n",
       "\t\t<dd>-0.0321945972986493</dd>\n",
       "\t<dt>wifi</dt>\n",
       "\t\t<dd>0.0436053026513257</dd>\n",
       "\t<dt>price_range</dt>\n",
       "\t\t<dd>0.10680340170085</dd>\n",
       "</dl>\n"
      ],
      "text/latex": [
       "\\begin{description*}\n",
       "\\item[battery\\textbackslash{}\\_power] 63.5923204102051\n",
       "\\item[blue] 0.00780140070035018\n",
       "\\item[clock\\textbackslash{}\\_speed] -0.00153714357178589\n",
       "\\item[dual\\textbackslash{}\\_sim] -0.0632218609304652\n",
       "\\item[fc] 18.8481338169085\n",
       "\\item[four\\textbackslash{}\\_g] -0.0359222111055528\n",
       "\\item[int\\textbackslash{}\\_memory] -2.29503926963482\n",
       "\\item[m\\textbackslash{}\\_dep] -0.00224274637318659\n",
       "\\item[mobile\\textbackslash{}\\_wt] 3.62974937468734\n",
       "\\item[n\\textbackslash{}\\_cores] -0.13266108054027\n",
       "\\item[pc] 16.9708286643322\n",
       "\\item[px\\textbackslash{}\\_height] -19.2470495247624\n",
       "\\item[px\\textbackslash{}\\_width] -9.71140295147574\n",
       "\\item[ram] 71.1056293146573\n",
       "\\item[sc\\textbackslash{}\\_h] -0.20146248124062\n",
       "\\item[sc\\textbackslash{}\\_w] -0.234003501750875\n",
       "\\item[talk\\textbackslash{}\\_time] -0.161985492746373\n",
       "\\item[three\\textbackslash{}\\_g] 0.00331740870435218\n",
       "\\item[touch\\textbackslash{}\\_screen] -0.0321945972986493\n",
       "\\item[wifi] 0.0436053026513257\n",
       "\\item[price\\textbackslash{}\\_range] 0.10680340170085\n",
       "\\end{description*}\n"
      ],
      "text/markdown": [
       "battery_power\n",
       ":   63.5923204102051blue\n",
       ":   0.00780140070035018clock_speed\n",
       ":   -0.00153714357178589dual_sim\n",
       ":   -0.0632218609304652fc\n",
       ":   18.8481338169085four_g\n",
       ":   -0.0359222111055528int_memory\n",
       ":   -2.29503926963482m_dep\n",
       ":   -0.00224274637318659mobile_wt\n",
       ":   3.62974937468734n_cores\n",
       ":   -0.13266108054027pc\n",
       ":   16.9708286643322px_height\n",
       ":   -19.2470495247624px_width\n",
       ":   -9.71140295147574ram\n",
       ":   71.1056293146573sc_h\n",
       ":   -0.20146248124062sc_w\n",
       ":   -0.234003501750875talk_time\n",
       ":   -0.161985492746373three_g\n",
       ":   0.00331740870435218touch_screen\n",
       ":   -0.0321945972986493wifi\n",
       ":   0.0436053026513257price_range\n",
       ":   0.10680340170085\n",
       "\n"
      ],
      "text/plain": [
       "battery_power          blue   clock_speed      dual_sim            fc \n",
       " 63.592320410   0.007801401  -0.001537144  -0.063221861  18.848133817 \n",
       "       four_g    int_memory         m_dep     mobile_wt       n_cores \n",
       " -0.035922211  -2.295039270  -0.002242746   3.629749375  -0.132661081 \n",
       "           pc     px_height      px_width           ram          sc_h \n",
       " 16.970828664 -19.247049525  -9.711402951  71.105629315  -0.201462481 \n",
       "         sc_w     talk_time       three_g  touch_screen          wifi \n",
       " -0.234003502  -0.161985493   0.003317409  -0.032194597   0.043605303 \n",
       "  price_range \n",
       "  0.106803402 "
      ]
     },
     "metadata": {},
     "output_type": "display_data"
    }
   ],
   "source": [
    "cov(mobileData[,])[,which(colnames(mobileData)==\"fc\")]"
   ]
  },
  {
   "cell_type": "markdown",
   "metadata": {},
   "source": [
    "**Listamos las variables independientes cuya correlacion y covarianza son mas resaltantes segun el mapa de calor**"
   ]
  },
  {
   "cell_type": "code",
   "execution_count": 47,
   "metadata": {},
   "outputs": [
    {
     "name": "stdout",
     "output_type": "stream",
     "text": [
      "[1] \"Covarianza entre variables independientes:\"\n"
     ]
    },
    {
     "data": {
      "text/html": [
       "0.124439969984993"
      ],
      "text/latex": [
       "0.124439969984993"
      ],
      "text/markdown": [
       "0.124439969984993"
      ],
      "text/plain": [
       "[1] 0.12444"
      ]
     },
     "metadata": {},
     "output_type": "display_data"
    },
    {
     "data": {
      "text/html": [
       "9.29005952976488"
      ],
      "text/latex": [
       "9.29005952976488"
      ],
      "text/markdown": [
       "9.29005952976488"
      ],
      "text/plain": [
       "[1] 9.29006"
      ]
     },
     "metadata": {},
     "output_type": "display_data"
    },
    {
     "data": {
      "text/html": [
       "97946.3655087544"
      ],
      "text/latex": [
       "97946.3655087544"
      ],
      "text/markdown": [
       "97946.3655087544"
      ],
      "text/plain": [
       "[1] 97946.37"
      ]
     },
     "metadata": {},
     "output_type": "display_data"
    },
    {
     "data": {
      "text/html": [
       "16.9708286643322"
      ],
      "text/latex": [
       "16.9708286643322"
      ],
      "text/markdown": [
       "16.9708286643322"
      ],
      "text/plain": [
       "[1] 16.97083"
      ]
     },
     "metadata": {},
     "output_type": "display_data"
    },
    {
     "name": "stdout",
     "output_type": "stream",
     "text": [
      "[1] \"Correlacion entre variables independientes:\"\n"
     ]
    },
    {
     "data": {
      "text/html": [
       "0.584245563417291"
      ],
      "text/latex": [
       "0.584245563417291"
      ],
      "text/markdown": [
       "0.584245563417291"
      ],
      "text/plain": [
       "[1] 0.5842456"
      ]
     },
     "metadata": {},
     "output_type": "display_data"
    },
    {
     "data": {
      "text/html": [
       "0.506144208343353"
      ],
      "text/latex": [
       "0.506144208343353"
      ],
      "text/markdown": [
       "0.506144208343353"
      ],
      "text/plain": [
       "[1] 0.5061442"
      ]
     },
     "metadata": {},
     "output_type": "display_data"
    },
    {
     "data": {
      "text/html": [
       "0.510664419139314"
      ],
      "text/latex": [
       "0.510664419139314"
      ],
      "text/markdown": [
       "0.510664419139314"
      ],
      "text/plain": [
       "[1] 0.5106644"
      ]
     },
     "metadata": {},
     "output_type": "display_data"
    },
    {
     "data": {
      "text/html": [
       "0.644595282795633"
      ],
      "text/latex": [
       "0.644595282795633"
      ],
      "text/markdown": [
       "0.644595282795633"
      ],
      "text/plain": [
       "[1] 0.6445953"
      ]
     },
     "metadata": {},
     "output_type": "display_data"
    }
   ],
   "source": [
    "print(\"Covarianza entre variables independientes:\")\n",
    "cov(mobileData$four_g,mobileData$three_g)\n",
    "cov(mobileData$sc_h,mobileData$sc_w)\n",
    "cov(mobileData$px_height,mobileData$px_width)\n",
    "cov(mobileData$fc,mobileData$pc)\n",
    "print(\"Correlacion entre variables independientes:\")\n",
    "cor(mobileData$four_g,mobileData$three_g)\n",
    "cor(mobileData$sc_h,mobileData$sc_w)\n",
    "cor(mobileData$px_height,mobileData$px_width)\n",
    "cor(mobileData$fc,mobileData$pc)"
   ]
  },
  {
   "cell_type": "markdown",
   "metadata": {},
   "source": [
    "**Listamos las variables que tienen mas peso en correlacion con la variable dependiente  \"Price_Range\"**"
   ]
  },
  {
   "cell_type": "code",
   "execution_count": 48,
   "metadata": {},
   "outputs": [
    {
     "data": {
      "text/html": [
       "<dl class=dl-horizontal>\n",
       "\t<dt>battery_power</dt>\n",
       "\t\t<dd>0.200722612113731</dd>\n",
       "\t<dt>blue</dt>\n",
       "\t\t<dd>0.0205728540614185</dd>\n",
       "\t<dt>dual_sim</dt>\n",
       "\t\t<dd>0.0174444792372247</dd>\n",
       "\t<dt>fc</dt>\n",
       "\t\t<dd>0.0219982077769043</dd>\n",
       "\t<dt>four_g</dt>\n",
       "\t\t<dd>0.0147717114172394</dd>\n",
       "\t<dt>int_memory</dt>\n",
       "\t\t<dd>0.0444349593889874</dd>\n",
       "\t<dt>pc</dt>\n",
       "\t\t<dd>0.0335993002135395</dd>\n",
       "\t<dt>px_height</dt>\n",
       "\t\t<dd>0.148857555000422</dd>\n",
       "\t<dt>px_width</dt>\n",
       "\t\t<dd>0.165817501726255</dd>\n",
       "\t<dt>ram</dt>\n",
       "\t\t<dd>0.917045736264991</dd>\n",
       "\t<dt>sc_h</dt>\n",
       "\t\t<dd>0.0229860731674244</dd>\n",
       "\t<dt>sc_w</dt>\n",
       "\t\t<dd>0.0387112716644842</dd>\n",
       "\t<dt>talk_time</dt>\n",
       "\t\t<dd>0.0218588711623748</dd>\n",
       "\t<dt>three_g</dt>\n",
       "\t\t<dd>0.023611216880045</dd>\n",
       "\t<dt>wifi</dt>\n",
       "\t\t<dd>0.018784812012789</dd>\n",
       "\t<dt>price_range</dt>\n",
       "\t\t<dd>1</dd>\n",
       "</dl>\n"
      ],
      "text/latex": [
       "\\begin{description*}\n",
       "\\item[battery\\textbackslash{}\\_power] 0.200722612113731\n",
       "\\item[blue] 0.0205728540614185\n",
       "\\item[dual\\textbackslash{}\\_sim] 0.0174444792372247\n",
       "\\item[fc] 0.0219982077769043\n",
       "\\item[four\\textbackslash{}\\_g] 0.0147717114172394\n",
       "\\item[int\\textbackslash{}\\_memory] 0.0444349593889874\n",
       "\\item[pc] 0.0335993002135395\n",
       "\\item[px\\textbackslash{}\\_height] 0.148857555000422\n",
       "\\item[px\\textbackslash{}\\_width] 0.165817501726255\n",
       "\\item[ram] 0.917045736264991\n",
       "\\item[sc\\textbackslash{}\\_h] 0.0229860731674244\n",
       "\\item[sc\\textbackslash{}\\_w] 0.0387112716644842\n",
       "\\item[talk\\textbackslash{}\\_time] 0.0218588711623748\n",
       "\\item[three\\textbackslash{}\\_g] 0.023611216880045\n",
       "\\item[wifi] 0.018784812012789\n",
       "\\item[price\\textbackslash{}\\_range] 1\n",
       "\\end{description*}\n"
      ],
      "text/markdown": [
       "battery_power\n",
       ":   0.200722612113731blue\n",
       ":   0.0205728540614185dual_sim\n",
       ":   0.0174444792372247fc\n",
       ":   0.0219982077769043four_g\n",
       ":   0.0147717114172394int_memory\n",
       ":   0.0444349593889874pc\n",
       ":   0.0335993002135395px_height\n",
       ":   0.148857555000422px_width\n",
       ":   0.165817501726255ram\n",
       ":   0.917045736264991sc_h\n",
       ":   0.0229860731674244sc_w\n",
       ":   0.0387112716644842talk_time\n",
       ":   0.0218588711623748three_g\n",
       ":   0.023611216880045wifi\n",
       ":   0.018784812012789price_range\n",
       ":   1\n",
       "\n"
      ],
      "text/plain": [
       "battery_power          blue      dual_sim            fc        four_g \n",
       "   0.20072261    0.02057285    0.01744448    0.02199821    0.01477171 \n",
       "   int_memory            pc     px_height      px_width           ram \n",
       "   0.04443496    0.03359930    0.14885756    0.16581750    0.91704574 \n",
       "         sc_h          sc_w     talk_time       three_g          wifi \n",
       "   0.02298607    0.03871127    0.02185887    0.02361122    0.01878481 \n",
       "  price_range \n",
       "   1.00000000 "
      ]
     },
     "metadata": {},
     "output_type": "display_data"
    }
   ],
   "source": [
    "corrTrain <- cor(mobileData) # Select best 5 correlated values.\n",
    "c<-corrTrain[,which(colnames(mobileData)==\"price_range\")]\n",
    "c[c>0.01]"
   ]
  },
  {
   "cell_type": "markdown",
   "metadata": {},
   "source": [
    "## Borrado de Variables"
   ]
  },
  {
   "cell_type": "markdown",
   "metadata": {},
   "source": [
    "**Segun el analisis de correlacion y covarianza entre variables independientes, el borrado de variables justifica lo siguiente:**\n",
    "- **Entre four_g y three_g** mantienen cierta dependencia, **four_g** se elimina por tener menor correlacion con variable dependiente.\n",
    "- **Entre sc_h y sc_w** mantienen cierta dependencia, **sc_h** se elimina por tener menor correlacion con variable dependiente.\n",
    "- **Entre px_height y px_width** mantienen cierta dependencia, **px_height** se elimina por tener menor correlacion con variable dependiente.\n",
    "- **Entre fc y pc** mantienen cierta dependencia, **fc** se elimina por tener menor correlacion con variable dependiente.\n"
   ]
  },
  {
   "cell_type": "code",
   "execution_count": 49,
   "metadata": {},
   "outputs": [],
   "source": [
    "#Eliminamos las columnas que han sido seleccionados segun el previo analisis\n",
    "borrar <- c(\"four_g\",\"sc_h\",\"px_height\",\"fc\")\n",
    "mobileData_c<- mobileData[ , !(names(mobileData) %in% borrar)] #Definimos el dataset limpio para la maquina vector soporte\n",
    "mobileData_c2 <-mobileData_c #Definimos el dataset limpio para las redes neuronales"
   ]
  },
  {
   "cell_type": "code",
   "execution_count": 50,
   "metadata": {},
   "outputs": [
    {
     "data": {
      "text/html": [
       "<table>\n",
       "<thead><tr><th scope=col>battery_power</th><th scope=col>blue</th><th scope=col>clock_speed</th><th scope=col>dual_sim</th><th scope=col>int_memory</th><th scope=col>m_dep</th><th scope=col>mobile_wt</th><th scope=col>n_cores</th><th scope=col>pc</th><th scope=col>px_width</th><th scope=col>ram</th><th scope=col>sc_w</th><th scope=col>talk_time</th><th scope=col>three_g</th><th scope=col>touch_screen</th><th scope=col>wifi</th><th scope=col>price_range</th></tr></thead>\n",
       "<tbody>\n",
       "\t<tr><td> 842</td><td>0   </td><td>2.2 </td><td>0   </td><td> 7  </td><td>0.6 </td><td>188 </td><td>2   </td><td> 2  </td><td> 756</td><td>2549</td><td>7   </td><td>19  </td><td>0   </td><td>0   </td><td>1   </td><td>1   </td></tr>\n",
       "\t<tr><td>1021</td><td>1   </td><td>0.5 </td><td>1   </td><td>53  </td><td>0.7 </td><td>136 </td><td>3   </td><td> 6  </td><td>1988</td><td>2631</td><td>3   </td><td> 7  </td><td>1   </td><td>1   </td><td>0   </td><td>2   </td></tr>\n",
       "\t<tr><td> 563</td><td>1   </td><td>0.5 </td><td>1   </td><td>41  </td><td>0.9 </td><td>145 </td><td>5   </td><td> 6  </td><td>1716</td><td>2603</td><td>2   </td><td> 9  </td><td>1   </td><td>1   </td><td>0   </td><td>2   </td></tr>\n",
       "\t<tr><td> 615</td><td>1   </td><td>2.5 </td><td>0   </td><td>10  </td><td>0.8 </td><td>131 </td><td>6   </td><td> 9  </td><td>1786</td><td>2769</td><td>8   </td><td>11  </td><td>1   </td><td>0   </td><td>0   </td><td>2   </td></tr>\n",
       "\t<tr><td>1821</td><td>1   </td><td>1.2 </td><td>0   </td><td>44  </td><td>0.6 </td><td>141 </td><td>2   </td><td>14  </td><td>1212</td><td>1411</td><td>2   </td><td>15  </td><td>1   </td><td>1   </td><td>0   </td><td>1   </td></tr>\n",
       "\t<tr><td>1859</td><td>0   </td><td>0.5 </td><td>1   </td><td>22  </td><td>0.7 </td><td>164 </td><td>1   </td><td> 7  </td><td>1654</td><td>1067</td><td>1   </td><td>10  </td><td>1   </td><td>0   </td><td>0   </td><td>1   </td></tr>\n",
       "</tbody>\n",
       "</table>\n"
      ],
      "text/latex": [
       "\\begin{tabular}{r|lllllllllllllllll}\n",
       " battery\\_power & blue & clock\\_speed & dual\\_sim & int\\_memory & m\\_dep & mobile\\_wt & n\\_cores & pc & px\\_width & ram & sc\\_w & talk\\_time & three\\_g & touch\\_screen & wifi & price\\_range\\\\\n",
       "\\hline\n",
       "\t  842 & 0    & 2.2  & 0    &  7   & 0.6  & 188  & 2    &  2   &  756 & 2549 & 7    & 19   & 0    & 0    & 1    & 1   \\\\\n",
       "\t 1021 & 1    & 0.5  & 1    & 53   & 0.7  & 136  & 3    &  6   & 1988 & 2631 & 3    &  7   & 1    & 1    & 0    & 2   \\\\\n",
       "\t  563 & 1    & 0.5  & 1    & 41   & 0.9  & 145  & 5    &  6   & 1716 & 2603 & 2    &  9   & 1    & 1    & 0    & 2   \\\\\n",
       "\t  615 & 1    & 2.5  & 0    & 10   & 0.8  & 131  & 6    &  9   & 1786 & 2769 & 8    & 11   & 1    & 0    & 0    & 2   \\\\\n",
       "\t 1821 & 1    & 1.2  & 0    & 44   & 0.6  & 141  & 2    & 14   & 1212 & 1411 & 2    & 15   & 1    & 1    & 0    & 1   \\\\\n",
       "\t 1859 & 0    & 0.5  & 1    & 22   & 0.7  & 164  & 1    &  7   & 1654 & 1067 & 1    & 10   & 1    & 0    & 0    & 1   \\\\\n",
       "\\end{tabular}\n"
      ],
      "text/markdown": [
       "\n",
       "| battery_power | blue | clock_speed | dual_sim | int_memory | m_dep | mobile_wt | n_cores | pc | px_width | ram | sc_w | talk_time | three_g | touch_screen | wifi | price_range |\n",
       "|---|---|---|---|---|---|---|---|---|---|---|---|---|---|---|---|---|\n",
       "|  842 | 0    | 2.2  | 0    |  7   | 0.6  | 188  | 2    |  2   |  756 | 2549 | 7    | 19   | 0    | 0    | 1    | 1    |\n",
       "| 1021 | 1    | 0.5  | 1    | 53   | 0.7  | 136  | 3    |  6   | 1988 | 2631 | 3    |  7   | 1    | 1    | 0    | 2    |\n",
       "|  563 | 1    | 0.5  | 1    | 41   | 0.9  | 145  | 5    |  6   | 1716 | 2603 | 2    |  9   | 1    | 1    | 0    | 2    |\n",
       "|  615 | 1    | 2.5  | 0    | 10   | 0.8  | 131  | 6    |  9   | 1786 | 2769 | 8    | 11   | 1    | 0    | 0    | 2    |\n",
       "| 1821 | 1    | 1.2  | 0    | 44   | 0.6  | 141  | 2    | 14   | 1212 | 1411 | 2    | 15   | 1    | 1    | 0    | 1    |\n",
       "| 1859 | 0    | 0.5  | 1    | 22   | 0.7  | 164  | 1    |  7   | 1654 | 1067 | 1    | 10   | 1    | 0    | 0    | 1    |\n",
       "\n"
      ],
      "text/plain": [
       "  battery_power blue clock_speed dual_sim int_memory m_dep mobile_wt n_cores pc\n",
       "1  842          0    2.2         0         7         0.6   188       2        2\n",
       "2 1021          1    0.5         1        53         0.7   136       3        6\n",
       "3  563          1    0.5         1        41         0.9   145       5        6\n",
       "4  615          1    2.5         0        10         0.8   131       6        9\n",
       "5 1821          1    1.2         0        44         0.6   141       2       14\n",
       "6 1859          0    0.5         1        22         0.7   164       1        7\n",
       "  px_width ram  sc_w talk_time three_g touch_screen wifi price_range\n",
       "1  756     2549 7    19        0       0            1    1          \n",
       "2 1988     2631 3     7        1       1            0    2          \n",
       "3 1716     2603 2     9        1       1            0    2          \n",
       "4 1786     2769 8    11        1       0            0    2          \n",
       "5 1212     1411 2    15        1       1            0    1          \n",
       "6 1654     1067 1    10        1       0            0    1          "
      ]
     },
     "metadata": {},
     "output_type": "display_data"
    },
    {
     "name": "stdout",
     "output_type": "stream",
     "text": [
      "'data.frame':\t2000 obs. of  17 variables:\n",
      " $ battery_power: int  842 1021 563 615 1821 1859 1821 1954 1445 509 ...\n",
      " $ blue         : int  0 1 1 1 1 0 0 0 1 1 ...\n",
      " $ clock_speed  : num  2.2 0.5 0.5 2.5 1.2 0.5 1.7 0.5 0.5 0.6 ...\n",
      " $ dual_sim     : int  0 1 1 0 0 1 0 1 0 1 ...\n",
      " $ int_memory   : int  7 53 41 10 44 22 10 24 53 9 ...\n",
      " $ m_dep        : num  0.6 0.7 0.9 0.8 0.6 0.7 0.8 0.8 0.7 0.1 ...\n",
      " $ mobile_wt    : int  188 136 145 131 141 164 139 187 174 93 ...\n",
      " $ n_cores      : int  2 3 5 6 2 1 8 4 7 5 ...\n",
      " $ pc           : int  2 6 6 9 14 7 10 0 14 15 ...\n",
      " $ px_width     : int  756 1988 1716 1786 1212 1654 1018 1149 836 1224 ...\n",
      " $ ram          : int  2549 2631 2603 2769 1411 1067 3220 700 1099 513 ...\n",
      " $ sc_w         : int  7 3 2 8 2 1 8 3 1 10 ...\n",
      " $ talk_time    : int  19 7 9 11 15 10 18 5 20 12 ...\n",
      " $ three_g      : int  0 1 1 1 1 1 1 1 1 1 ...\n",
      " $ touch_screen : int  0 1 1 0 1 0 0 1 0 0 ...\n",
      " $ wifi         : int  1 0 0 0 0 0 1 1 0 0 ...\n",
      " $ price_range  : int  1 2 2 2 1 1 3 0 0 0 ...\n"
     ]
    }
   ],
   "source": [
    "#Imprimimos resultado del nuevo dataset limpiado\n",
    "head(mobileData_c)\n",
    "str(mobileData_c)"
   ]
  },
  {
   "cell_type": "markdown",
   "metadata": {},
   "source": [
    "## Definicion de la Funcion de normalizacion"
   ]
  },
  {
   "cell_type": "code",
   "execution_count": 51,
   "metadata": {},
   "outputs": [],
   "source": [
    "#Funcion de normalizacion de datos\n",
    "normalize <- function(x){\n",
    "    return((x-min(x))/ (max(x)-min(x)))\n",
    "}"
   ]
  },
  {
   "cell_type": "markdown",
   "metadata": {},
   "source": [
    "# ALGORITMO MAQUINA DE VECTOR SOPORTE"
   ]
  },
  {
   "cell_type": "markdown",
   "metadata": {},
   "source": [
    "## Division del dataset en Conjuntos de Training y Testing"
   ]
  },
  {
   "cell_type": "code",
   "execution_count": 52,
   "metadata": {},
   "outputs": [
    {
     "data": {
      "text/html": [
       "<table>\n",
       "<thead><tr><th></th><th scope=col>battery_power</th><th scope=col>blue</th><th scope=col>clock_speed</th><th scope=col>dual_sim</th><th scope=col>int_memory</th><th scope=col>m_dep</th><th scope=col>mobile_wt</th><th scope=col>n_cores</th><th scope=col>pc</th><th scope=col>px_width</th><th scope=col>ram</th><th scope=col>sc_w</th><th scope=col>talk_time</th><th scope=col>three_g</th><th scope=col>touch_screen</th><th scope=col>wifi</th><th scope=col>price_range</th></tr></thead>\n",
       "<tbody>\n",
       "\t<tr><th scope=row>1</th><td>0.2106053   </td><td>0.0000000000</td><td>0.0005502751</td><td>0.0000000000</td><td>0.001750875 </td><td>0.0001500750</td><td>0.04702351  </td><td>0.0005002501</td><td>0.0005002501</td><td>0.1890945   </td><td>0.6375688   </td><td>0.0017508754</td><td>0.004752376 </td><td>0.0000000000</td><td>0.0000000000</td><td>0.0002501251</td><td>1           </td></tr>\n",
       "\t<tr><th scope=row>2</th><td>0.2553777   </td><td>0.0002501251</td><td>0.0001250625</td><td>0.0002501251</td><td>0.013256628 </td><td>0.0001750875</td><td>0.03401701  </td><td>0.0007503752</td><td>0.0015007504</td><td>0.4972486   </td><td>0.6580790   </td><td>0.0007503752</td><td>0.001750875 </td><td>0.0002501251</td><td>0.0002501251</td><td>0.0000000000</td><td>2           </td></tr>\n",
       "\t<tr><th scope=row>3</th><td>0.1408204   </td><td>0.0002501251</td><td>0.0001250625</td><td>0.0002501251</td><td>0.010255128 </td><td>0.0002251126</td><td>0.03626813  </td><td>0.0012506253</td><td>0.0015007504</td><td>0.4292146   </td><td>0.6510755   </td><td>0.0005002501</td><td>0.002251126 </td><td>0.0002501251</td><td>0.0002501251</td><td>0.0000000000</td><td>2           </td></tr>\n",
       "\t<tr><th scope=row>4</th><td>0.1538269   </td><td>0.0002501251</td><td>0.0006253127</td><td>0.0000000000</td><td>0.002501251 </td><td>0.0002001001</td><td>0.03276638  </td><td>0.0015007504</td><td>0.0022511256</td><td>0.4467234   </td><td>0.6925963   </td><td>0.0020010005</td><td>0.002751376 </td><td>0.0002501251</td><td>0.0000000000</td><td>0.0000000000</td><td>2           </td></tr>\n",
       "\t<tr><th scope=row>6</th><td>0.4649825   </td><td>0.0000000000</td><td>0.0001250625</td><td>0.0002501251</td><td>0.005502751 </td><td>0.0001750875</td><td>0.04102051  </td><td>0.0002501251</td><td>0.0017508754</td><td>0.4137069   </td><td>0.2668834   </td><td>0.0002501251</td><td>0.002501251 </td><td>0.0002501251</td><td>0.0000000000</td><td>0.0000000000</td><td>1           </td></tr>\n",
       "\t<tr><th scope=row>7</th><td>0.4554777   </td><td>0.0000000000</td><td>0.0004252126</td><td>0.0000000000</td><td>0.002501251 </td><td>0.0002001001</td><td>0.03476738  </td><td>0.0020010005</td><td>0.0025012506</td><td>0.2546273   </td><td>0.8054027   </td><td>0.0020010005</td><td>0.004502251 </td><td>0.0002501251</td><td>0.0000000000</td><td>0.0002501251</td><td>3           </td></tr>\n",
       "</tbody>\n",
       "</table>\n"
      ],
      "text/latex": [
       "\\begin{tabular}{r|lllllllllllllllll}\n",
       "  & battery\\_power & blue & clock\\_speed & dual\\_sim & int\\_memory & m\\_dep & mobile\\_wt & n\\_cores & pc & px\\_width & ram & sc\\_w & talk\\_time & three\\_g & touch\\_screen & wifi & price\\_range\\\\\n",
       "\\hline\n",
       "\t1 & 0.2106053    & 0.0000000000 & 0.0005502751 & 0.0000000000 & 0.001750875  & 0.0001500750 & 0.04702351   & 0.0005002501 & 0.0005002501 & 0.1890945    & 0.6375688    & 0.0017508754 & 0.004752376  & 0.0000000000 & 0.0000000000 & 0.0002501251 & 1           \\\\\n",
       "\t2 & 0.2553777    & 0.0002501251 & 0.0001250625 & 0.0002501251 & 0.013256628  & 0.0001750875 & 0.03401701   & 0.0007503752 & 0.0015007504 & 0.4972486    & 0.6580790    & 0.0007503752 & 0.001750875  & 0.0002501251 & 0.0002501251 & 0.0000000000 & 2           \\\\\n",
       "\t3 & 0.1408204    & 0.0002501251 & 0.0001250625 & 0.0002501251 & 0.010255128  & 0.0002251126 & 0.03626813   & 0.0012506253 & 0.0015007504 & 0.4292146    & 0.6510755    & 0.0005002501 & 0.002251126  & 0.0002501251 & 0.0002501251 & 0.0000000000 & 2           \\\\\n",
       "\t4 & 0.1538269    & 0.0002501251 & 0.0006253127 & 0.0000000000 & 0.002501251  & 0.0002001001 & 0.03276638   & 0.0015007504 & 0.0022511256 & 0.4467234    & 0.6925963    & 0.0020010005 & 0.002751376  & 0.0002501251 & 0.0000000000 & 0.0000000000 & 2           \\\\\n",
       "\t6 & 0.4649825    & 0.0000000000 & 0.0001250625 & 0.0002501251 & 0.005502751  & 0.0001750875 & 0.04102051   & 0.0002501251 & 0.0017508754 & 0.4137069    & 0.2668834    & 0.0002501251 & 0.002501251  & 0.0002501251 & 0.0000000000 & 0.0000000000 & 1           \\\\\n",
       "\t7 & 0.4554777    & 0.0000000000 & 0.0004252126 & 0.0000000000 & 0.002501251  & 0.0002001001 & 0.03476738   & 0.0020010005 & 0.0025012506 & 0.2546273    & 0.8054027    & 0.0020010005 & 0.004502251  & 0.0002501251 & 0.0000000000 & 0.0002501251 & 3           \\\\\n",
       "\\end{tabular}\n"
      ],
      "text/markdown": [
       "\n",
       "| <!--/--> | battery_power | blue | clock_speed | dual_sim | int_memory | m_dep | mobile_wt | n_cores | pc | px_width | ram | sc_w | talk_time | three_g | touch_screen | wifi | price_range |\n",
       "|---|---|---|---|---|---|---|---|---|---|---|---|---|---|---|---|---|---|\n",
       "| 1 | 0.2106053    | 0.0000000000 | 0.0005502751 | 0.0000000000 | 0.001750875  | 0.0001500750 | 0.04702351   | 0.0005002501 | 0.0005002501 | 0.1890945    | 0.6375688    | 0.0017508754 | 0.004752376  | 0.0000000000 | 0.0000000000 | 0.0002501251 | 1            |\n",
       "| 2 | 0.2553777    | 0.0002501251 | 0.0001250625 | 0.0002501251 | 0.013256628  | 0.0001750875 | 0.03401701   | 0.0007503752 | 0.0015007504 | 0.4972486    | 0.6580790    | 0.0007503752 | 0.001750875  | 0.0002501251 | 0.0002501251 | 0.0000000000 | 2            |\n",
       "| 3 | 0.1408204    | 0.0002501251 | 0.0001250625 | 0.0002501251 | 0.010255128  | 0.0002251126 | 0.03626813   | 0.0012506253 | 0.0015007504 | 0.4292146    | 0.6510755    | 0.0005002501 | 0.002251126  | 0.0002501251 | 0.0002501251 | 0.0000000000 | 2            |\n",
       "| 4 | 0.1538269    | 0.0002501251 | 0.0006253127 | 0.0000000000 | 0.002501251  | 0.0002001001 | 0.03276638   | 0.0015007504 | 0.0022511256 | 0.4467234    | 0.6925963    | 0.0020010005 | 0.002751376  | 0.0002501251 | 0.0000000000 | 0.0000000000 | 2            |\n",
       "| 6 | 0.4649825    | 0.0000000000 | 0.0001250625 | 0.0002501251 | 0.005502751  | 0.0001750875 | 0.04102051   | 0.0002501251 | 0.0017508754 | 0.4137069    | 0.2668834    | 0.0002501251 | 0.002501251  | 0.0002501251 | 0.0000000000 | 0.0000000000 | 1            |\n",
       "| 7 | 0.4554777    | 0.0000000000 | 0.0004252126 | 0.0000000000 | 0.002501251  | 0.0002001001 | 0.03476738   | 0.0020010005 | 0.0025012506 | 0.2546273    | 0.8054027    | 0.0020010005 | 0.004502251  | 0.0002501251 | 0.0000000000 | 0.0002501251 | 3            |\n",
       "\n"
      ],
      "text/plain": [
       "  battery_power blue         clock_speed  dual_sim     int_memory  m_dep       \n",
       "1 0.2106053     0.0000000000 0.0005502751 0.0000000000 0.001750875 0.0001500750\n",
       "2 0.2553777     0.0002501251 0.0001250625 0.0002501251 0.013256628 0.0001750875\n",
       "3 0.1408204     0.0002501251 0.0001250625 0.0002501251 0.010255128 0.0002251126\n",
       "4 0.1538269     0.0002501251 0.0006253127 0.0000000000 0.002501251 0.0002001001\n",
       "6 0.4649825     0.0000000000 0.0001250625 0.0002501251 0.005502751 0.0001750875\n",
       "7 0.4554777     0.0000000000 0.0004252126 0.0000000000 0.002501251 0.0002001001\n",
       "  mobile_wt  n_cores      pc           px_width  ram       sc_w        \n",
       "1 0.04702351 0.0005002501 0.0005002501 0.1890945 0.6375688 0.0017508754\n",
       "2 0.03401701 0.0007503752 0.0015007504 0.4972486 0.6580790 0.0007503752\n",
       "3 0.03626813 0.0012506253 0.0015007504 0.4292146 0.6510755 0.0005002501\n",
       "4 0.03276638 0.0015007504 0.0022511256 0.4467234 0.6925963 0.0020010005\n",
       "6 0.04102051 0.0002501251 0.0017508754 0.4137069 0.2668834 0.0002501251\n",
       "7 0.03476738 0.0020010005 0.0025012506 0.2546273 0.8054027 0.0020010005\n",
       "  talk_time   three_g      touch_screen wifi         price_range\n",
       "1 0.004752376 0.0000000000 0.0000000000 0.0002501251 1          \n",
       "2 0.001750875 0.0002501251 0.0002501251 0.0000000000 2          \n",
       "3 0.002251126 0.0002501251 0.0002501251 0.0000000000 2          \n",
       "4 0.002751376 0.0002501251 0.0000000000 0.0000000000 2          \n",
       "6 0.002501251 0.0002501251 0.0000000000 0.0000000000 1          \n",
       "7 0.004502251 0.0002501251 0.0000000000 0.0002501251 3          "
      ]
     },
     "metadata": {},
     "output_type": "display_data"
    },
    {
     "data": {
      "text/html": [
       "<table>\n",
       "<thead><tr><th></th><th scope=col>battery_power</th><th scope=col>blue</th><th scope=col>clock_speed</th><th scope=col>dual_sim</th><th scope=col>int_memory</th><th scope=col>m_dep</th><th scope=col>mobile_wt</th><th scope=col>n_cores</th><th scope=col>pc</th><th scope=col>px_width</th><th scope=col>ram</th><th scope=col>sc_w</th><th scope=col>talk_time</th><th scope=col>three_g</th><th scope=col>touch_screen</th><th scope=col>wifi</th><th scope=col>price_range</th></tr></thead>\n",
       "<tbody>\n",
       "\t<tr><th scope=row>5</th><td>0.4586902   </td><td>0.0002518892</td><td>0.0003022670</td><td>0.0000000000</td><td>0.011083123 </td><td>1.511335e-04</td><td>0.03551637  </td><td>0.0005037783</td><td>0.003526448 </td><td>0.3052897   </td><td>0.3554156   </td><td>0.0005037783</td><td>0.0037783375</td><td>0.0002518892</td><td>0.0002518892</td><td>0.0000000000</td><td>1           </td></tr>\n",
       "\t<tr><th scope=row>8</th><td>0.4921914   </td><td>0.0000000000</td><td>0.0001259446</td><td>0.0002518892</td><td>0.006045340 </td><td>2.015113e-04</td><td>0.04710327  </td><td>0.0010075567</td><td>0.000000000 </td><td>0.2894207   </td><td>0.1763224   </td><td>0.0007556675</td><td>0.0012594458</td><td>0.0002518892</td><td>0.0002518892</td><td>0.0002518892</td><td>0           </td></tr>\n",
       "\t<tr><th scope=row>9</th><td>0.3639798   </td><td>0.0002518892</td><td>0.0001259446</td><td>0.0000000000</td><td>0.013350126 </td><td>1.763224e-04</td><td>0.04382872  </td><td>0.0017632242</td><td>0.003526448 </td><td>0.2105793   </td><td>0.2768262   </td><td>0.0002518892</td><td>0.0050377834</td><td>0.0002518892</td><td>0.0000000000</td><td>0.0000000000</td><td>0           </td></tr>\n",
       "\t<tr><th scope=row>13</th><td>0.4571788   </td><td>0.0000000000</td><td>0.0007052897</td><td>0.0000000000</td><td>0.008312343 </td><td>1.511335e-04</td><td>0.04005038  </td><td>0.0010075567</td><td>0.004282116 </td><td>0.1884131   </td><td>0.3732997   </td><td>0.0000000000</td><td>0.0005037783</td><td>0.0002518892</td><td>0.0000000000</td><td>0.0000000000</td><td>1           </td></tr>\n",
       "\t<tr><th scope=row>17</th><td>0.2110831   </td><td>0.0000000000</td><td>0.0001259446</td><td>0.0000000000</td><td>0.003274559 </td><td>2.518892e-05</td><td>0.04937028  </td><td>0.0020151134</td><td>0.001007557 </td><td>0.4659950   </td><td>0.8952141   </td><td>0.0022670025</td><td>0.0047858942</td><td>0.0002518892</td><td>0.0000000000</td><td>0.0002518892</td><td>3           </td></tr>\n",
       "\t<tr><th scope=row>18</th><td>0.1498741   </td><td>0.0000000000</td><td>0.0002267003</td><td>0.0002518892</td><td>0.005793451 </td><td>2.518892e-05</td><td>0.03047859  </td><td>0.0007556675</td><td>0.004282116 </td><td>0.2040302   </td><td>0.9450882   </td><td>0.0005037783</td><td>0.0045340050</td><td>0.0002518892</td><td>0.0002518892</td><td>0.0000000000</td><td>3           </td></tr>\n",
       "</tbody>\n",
       "</table>\n"
      ],
      "text/latex": [
       "\\begin{tabular}{r|lllllllllllllllll}\n",
       "  & battery\\_power & blue & clock\\_speed & dual\\_sim & int\\_memory & m\\_dep & mobile\\_wt & n\\_cores & pc & px\\_width & ram & sc\\_w & talk\\_time & three\\_g & touch\\_screen & wifi & price\\_range\\\\\n",
       "\\hline\n",
       "\t5 & 0.4586902    & 0.0002518892 & 0.0003022670 & 0.0000000000 & 0.011083123  & 1.511335e-04 & 0.03551637   & 0.0005037783 & 0.003526448  & 0.3052897    & 0.3554156    & 0.0005037783 & 0.0037783375 & 0.0002518892 & 0.0002518892 & 0.0000000000 & 1           \\\\\n",
       "\t8 & 0.4921914    & 0.0000000000 & 0.0001259446 & 0.0002518892 & 0.006045340  & 2.015113e-04 & 0.04710327   & 0.0010075567 & 0.000000000  & 0.2894207    & 0.1763224    & 0.0007556675 & 0.0012594458 & 0.0002518892 & 0.0002518892 & 0.0002518892 & 0           \\\\\n",
       "\t9 & 0.3639798    & 0.0002518892 & 0.0001259446 & 0.0000000000 & 0.013350126  & 1.763224e-04 & 0.04382872   & 0.0017632242 & 0.003526448  & 0.2105793    & 0.2768262    & 0.0002518892 & 0.0050377834 & 0.0002518892 & 0.0000000000 & 0.0000000000 & 0           \\\\\n",
       "\t13 & 0.4571788    & 0.0000000000 & 0.0007052897 & 0.0000000000 & 0.008312343  & 1.511335e-04 & 0.04005038   & 0.0010075567 & 0.004282116  & 0.1884131    & 0.3732997    & 0.0000000000 & 0.0005037783 & 0.0002518892 & 0.0000000000 & 0.0000000000 & 1           \\\\\n",
       "\t17 & 0.2110831    & 0.0000000000 & 0.0001259446 & 0.0000000000 & 0.003274559  & 2.518892e-05 & 0.04937028   & 0.0020151134 & 0.001007557  & 0.4659950    & 0.8952141    & 0.0022670025 & 0.0047858942 & 0.0002518892 & 0.0000000000 & 0.0002518892 & 3           \\\\\n",
       "\t18 & 0.1498741    & 0.0000000000 & 0.0002267003 & 0.0002518892 & 0.005793451  & 2.518892e-05 & 0.03047859   & 0.0007556675 & 0.004282116  & 0.2040302    & 0.9450882    & 0.0005037783 & 0.0045340050 & 0.0002518892 & 0.0002518892 & 0.0000000000 & 3           \\\\\n",
       "\\end{tabular}\n"
      ],
      "text/markdown": [
       "\n",
       "| <!--/--> | battery_power | blue | clock_speed | dual_sim | int_memory | m_dep | mobile_wt | n_cores | pc | px_width | ram | sc_w | talk_time | three_g | touch_screen | wifi | price_range |\n",
       "|---|---|---|---|---|---|---|---|---|---|---|---|---|---|---|---|---|---|\n",
       "| 5 | 0.4586902    | 0.0002518892 | 0.0003022670 | 0.0000000000 | 0.011083123  | 1.511335e-04 | 0.03551637   | 0.0005037783 | 0.003526448  | 0.3052897    | 0.3554156    | 0.0005037783 | 0.0037783375 | 0.0002518892 | 0.0002518892 | 0.0000000000 | 1            |\n",
       "| 8 | 0.4921914    | 0.0000000000 | 0.0001259446 | 0.0002518892 | 0.006045340  | 2.015113e-04 | 0.04710327   | 0.0010075567 | 0.000000000  | 0.2894207    | 0.1763224    | 0.0007556675 | 0.0012594458 | 0.0002518892 | 0.0002518892 | 0.0002518892 | 0            |\n",
       "| 9 | 0.3639798    | 0.0002518892 | 0.0001259446 | 0.0000000000 | 0.013350126  | 1.763224e-04 | 0.04382872   | 0.0017632242 | 0.003526448  | 0.2105793    | 0.2768262    | 0.0002518892 | 0.0050377834 | 0.0002518892 | 0.0000000000 | 0.0000000000 | 0            |\n",
       "| 13 | 0.4571788    | 0.0000000000 | 0.0007052897 | 0.0000000000 | 0.008312343  | 1.511335e-04 | 0.04005038   | 0.0010075567 | 0.004282116  | 0.1884131    | 0.3732997    | 0.0000000000 | 0.0005037783 | 0.0002518892 | 0.0000000000 | 0.0000000000 | 1            |\n",
       "| 17 | 0.2110831    | 0.0000000000 | 0.0001259446 | 0.0000000000 | 0.003274559  | 2.518892e-05 | 0.04937028   | 0.0020151134 | 0.001007557  | 0.4659950    | 0.8952141    | 0.0022670025 | 0.0047858942 | 0.0002518892 | 0.0000000000 | 0.0002518892 | 3            |\n",
       "| 18 | 0.1498741    | 0.0000000000 | 0.0002267003 | 0.0002518892 | 0.005793451  | 2.518892e-05 | 0.03047859   | 0.0007556675 | 0.004282116  | 0.2040302    | 0.9450882    | 0.0005037783 | 0.0045340050 | 0.0002518892 | 0.0002518892 | 0.0000000000 | 3            |\n",
       "\n"
      ],
      "text/plain": [
       "   battery_power blue         clock_speed  dual_sim     int_memory \n",
       "5  0.4586902     0.0002518892 0.0003022670 0.0000000000 0.011083123\n",
       "8  0.4921914     0.0000000000 0.0001259446 0.0002518892 0.006045340\n",
       "9  0.3639798     0.0002518892 0.0001259446 0.0000000000 0.013350126\n",
       "13 0.4571788     0.0000000000 0.0007052897 0.0000000000 0.008312343\n",
       "17 0.2110831     0.0000000000 0.0001259446 0.0000000000 0.003274559\n",
       "18 0.1498741     0.0000000000 0.0002267003 0.0002518892 0.005793451\n",
       "   m_dep        mobile_wt  n_cores      pc          px_width  ram      \n",
       "5  1.511335e-04 0.03551637 0.0005037783 0.003526448 0.3052897 0.3554156\n",
       "8  2.015113e-04 0.04710327 0.0010075567 0.000000000 0.2894207 0.1763224\n",
       "9  1.763224e-04 0.04382872 0.0017632242 0.003526448 0.2105793 0.2768262\n",
       "13 1.511335e-04 0.04005038 0.0010075567 0.004282116 0.1884131 0.3732997\n",
       "17 2.518892e-05 0.04937028 0.0020151134 0.001007557 0.4659950 0.8952141\n",
       "18 2.518892e-05 0.03047859 0.0007556675 0.004282116 0.2040302 0.9450882\n",
       "   sc_w         talk_time    three_g      touch_screen wifi         price_range\n",
       "5  0.0005037783 0.0037783375 0.0002518892 0.0002518892 0.0000000000 1          \n",
       "8  0.0007556675 0.0012594458 0.0002518892 0.0002518892 0.0002518892 0          \n",
       "9  0.0002518892 0.0050377834 0.0002518892 0.0000000000 0.0000000000 0          \n",
       "13 0.0000000000 0.0005037783 0.0002518892 0.0000000000 0.0000000000 1          \n",
       "17 0.0022670025 0.0047858942 0.0002518892 0.0000000000 0.0002518892 3          \n",
       "18 0.0005037783 0.0045340050 0.0002518892 0.0002518892 0.0000000000 3          "
      ]
     },
     "metadata": {},
     "output_type": "display_data"
    }
   ],
   "source": [
    "library(caTools)\n",
    "set.seed(123)\n",
    "#Factorizamos la variable dependiente \"price_range\" para que pueda ser clasificado\n",
    "mobileData_c$price_range=as.factor(mobileData_c$price_range)\n",
    "#Dividimos el dataset en conjunto de training y testing\n",
    "split = sample.split(mobileData_c$price_range  , SplitRatio = 0.80)\n",
    "SVM.Training_Set = subset(mobileData_c, split == TRUE)\n",
    "SVM.Testing_Set = subset(mobileData_c, split == FALSE)\n",
    "# Normalizacion de variables\n",
    "SVM.Training_Set[,1:16] = normalize(SVM.Training_Set[,1:16])\n",
    "SVM.Testing_Set[,1:16] = normalize(SVM.Testing_Set[,1:16])\n",
    "head(SVM.Training_Set)\n",
    "head(SVM.Testing_Set)"
   ]
  },
  {
   "cell_type": "markdown",
   "metadata": {},
   "source": [
    "## Entrenamiento del modelo"
   ]
  },
  {
   "cell_type": "code",
   "execution_count": 53,
   "metadata": {},
   "outputs": [
    {
     "data": {
      "text/plain": [
       "\n",
       "Parameter tuning of 'svm':\n",
       "\n",
       "- sampling method: 5-fold cross validation \n",
       "\n",
       "- best parameters:\n",
       " cost\n",
       "    1\n",
       "\n",
       "- best performance: 0.106875 \n",
       "\n",
       "- Detailed performance results:\n",
       "     cost    error dispersion\n",
       "1   0.001 0.642500 0.14234366\n",
       "2   0.010 0.139375 0.02582619\n",
       "3   0.100 0.118125 0.02321772\n",
       "4   1.000 0.106875 0.02005851\n",
       "5 100.000 0.108750 0.01553097\n",
       "6 200.000 0.109375 0.01546796\n",
       "7 250.000 0.109375 0.01546796\n"
      ]
     },
     "metadata": {},
     "output_type": "display_data"
    }
   ],
   "source": [
    "set.seed(1)\n",
    "tune.out <- tune(svm, price_range~., data=SVM.Training_Set, \n",
    "                 kernel =\"linear\",\n",
    "                 ranges=list(cost=c(0.001, 0.01, 0.1, 1, 100,200,250)),\n",
    "                 tunecontrol= tune.control(sampling=\"cross\", cross=5))\n",
    "summary(tune.out)"
   ]
  },
  {
   "cell_type": "markdown",
   "metadata": {},
   "source": [
    "- De los resultados, nos indica que el mejor coste a emplear es 1,   ya que nos da un error de 0.106875 como el mejor rendimiento. Por lo tanto nos quedamos con el mejor modelo y verificamos el resumen del mismo"
   ]
  },
  {
   "cell_type": "code",
   "execution_count": 54,
   "metadata": {},
   "outputs": [
    {
     "data": {
      "text/plain": [
       "\n",
       "Call:\n",
       "best.tune(method = svm, train.x = price_range ~ ., data = SVM.Training_Set, \n",
       "    ranges = list(cost = c(0.001, 0.01, 0.1, 1, 100, 200, 250)), \n",
       "    tunecontrol = tune.control(sampling = \"cross\", cross = 5), kernel = \"linear\")\n",
       "\n",
       "\n",
       "Parameters:\n",
       "   SVM-Type:  C-classification \n",
       " SVM-Kernel:  linear \n",
       "       cost:  1 \n",
       "\n",
       "Number of Support Vectors:  477\n",
       "\n",
       " ( 157 169 82 69 )\n",
       "\n",
       "\n",
       "Number of Classes:  4 \n",
       "\n",
       "Levels: \n",
       " 0 1 2 3\n",
       "\n",
       "\n"
      ]
     },
     "metadata": {},
     "output_type": "display_data"
    }
   ],
   "source": [
    "best.model <- tune.out$best.model\n",
    "summary(best.model)"
   ]
  },
  {
   "cell_type": "markdown",
   "metadata": {},
   "source": [
    "## Prediccion del Modelo"
   ]
  },
  {
   "cell_type": "markdown",
   "metadata": {},
   "source": [
    "Evaluamos el modelo con el conjunto de pruebas que no ha visto el modelo"
   ]
  },
  {
   "cell_type": "code",
   "execution_count": 55,
   "metadata": {},
   "outputs": [],
   "source": [
    "#Predecimos el mejor modelo entrenado\n",
    "y.pred2 <- predict(best.model, SVM.Testing_Set)"
   ]
  },
  {
   "cell_type": "markdown",
   "metadata": {},
   "source": [
    "## Matriz de Confusion"
   ]
  },
  {
   "cell_type": "code",
   "execution_count": 56,
   "metadata": {},
   "outputs": [
    {
     "data": {
      "text/plain": [
       "       truth\n",
       "predict  0  1  2  3\n",
       "      0 94 10  0  0\n",
       "      1  6 83  5  0\n",
       "      2  0  7 89  8\n",
       "      3  0  0  6 92"
      ]
     },
     "metadata": {},
     "output_type": "display_data"
    },
    {
     "name": "stdout",
     "output_type": "stream",
     "text": [
      "acierto: 89.5 %"
     ]
    }
   ],
   "source": [
    "#Calculo de matriz de confusion\n",
    "MC<-table(predict = y.pred2, truth = SVM.Testing_Set$price_range)\n",
    "MC\n",
    "acierto <- (sum(diag(MC)))/(sum(MC))\n",
    "cat(\"acierto:\",acierto*100,\"%\")"
   ]
  },
  {
   "cell_type": "code",
   "execution_count": 57,
   "metadata": {},
   "outputs": [
    {
     "data": {
      "text/html": [
       "<table>\n",
       "<thead><tr><th></th><th scope=col>Real</th><th scope=col>Prediction</th></tr></thead>\n",
       "<tbody>\n",
       "\t<tr><th scope=row>5</th><td>1</td><td>1</td></tr>\n",
       "\t<tr><th scope=row>8</th><td>0</td><td>0</td></tr>\n",
       "\t<tr><th scope=row>9</th><td>0</td><td>0</td></tr>\n",
       "\t<tr><th scope=row>13</th><td>1</td><td>1</td></tr>\n",
       "\t<tr><th scope=row>17</th><td>3</td><td>3</td></tr>\n",
       "\t<tr><th scope=row>18</th><td>3</td><td>3</td></tr>\n",
       "</tbody>\n",
       "</table>\n"
      ],
      "text/latex": [
       "\\begin{tabular}{r|ll}\n",
       "  & Real & Prediction\\\\\n",
       "\\hline\n",
       "\t5 & 1 & 1\\\\\n",
       "\t8 & 0 & 0\\\\\n",
       "\t9 & 0 & 0\\\\\n",
       "\t13 & 1 & 1\\\\\n",
       "\t17 & 3 & 3\\\\\n",
       "\t18 & 3 & 3\\\\\n",
       "\\end{tabular}\n"
      ],
      "text/markdown": [
       "\n",
       "| <!--/--> | Real | Prediction |\n",
       "|---|---|---|\n",
       "| 5 | 1 | 1 |\n",
       "| 8 | 0 | 0 |\n",
       "| 9 | 0 | 0 |\n",
       "| 13 | 1 | 1 |\n",
       "| 17 | 3 | 3 |\n",
       "| 18 | 3 | 3 |\n",
       "\n"
      ],
      "text/plain": [
       "   Real Prediction\n",
       "5  1    1         \n",
       "8  0    0         \n",
       "9  0    0         \n",
       "13 1    1         \n",
       "17 3    3         \n",
       "18 3    3         "
      ]
     },
     "metadata": {},
     "output_type": "display_data"
    }
   ],
   "source": [
    "#Visualizamos un resumen tabla de los valores reales(test) vs predichos\n",
    "comp.svm <- data.frame(Real = SVM.Testing_Set$price_range, \n",
    "                   Prediction = y.pred2)\n",
    "head(comp.svm)"
   ]
  },
  {
   "cell_type": "markdown",
   "metadata": {},
   "source": [
    "Se observa a simple vista que los valores predichos son buenos con un 89.5% de acierto, para visualizar mayor detalle de la clasificacion ploteamos la grafica de dispersion de Prediccion vs Test"
   ]
  },
  {
   "cell_type": "markdown",
   "metadata": {},
   "source": [
    "## Visualizacion de la Grafica de Prediccion vs Test"
   ]
  },
  {
   "cell_type": "code",
   "execution_count": 58,
   "metadata": {},
   "outputs": [
    {
     "data": {
      "image/png": "[encoded data removed]",
      "text/plain": [
       "Plot with title \"Real vs Predicho\""
      ]
     },
     "metadata": {},
     "output_type": "display_data"
    }
   ],
   "source": [
    "#Graficamos la dispersion del conjunto de testing vs predichos\n",
    "par(mfrow = c(1, 1))\n",
    "plot(as.numeric(y.pred2),as.numeric(SVM.Testing_Set$price_range),\n",
    "     col='red', main=\"Real vs Predicho\",pch=18,cex=0.7)\n",
    "abline(0,1)"
   ]
  },
  {
   "cell_type": "markdown",
   "metadata": {},
   "source": [
    "# ALGORITMO DE REDES NEURONALES"
   ]
  },
  {
   "cell_type": "code",
   "execution_count": 59,
   "metadata": {
    "scrolled": false
   },
   "outputs": [
    {
     "data": {
      "text/plain": [
       " battery_power         blue        clock_speed       dual_sim     \n",
       " Min.   : 501.0   Min.   :0.000   Min.   :0.500   Min.   :0.0000  \n",
       " 1st Qu.: 851.8   1st Qu.:0.000   1st Qu.:0.700   1st Qu.:0.0000  \n",
       " Median :1226.0   Median :0.000   Median :1.500   Median :1.0000  \n",
       " Mean   :1238.5   Mean   :0.495   Mean   :1.522   Mean   :0.5095  \n",
       " 3rd Qu.:1615.2   3rd Qu.:1.000   3rd Qu.:2.200   3rd Qu.:1.0000  \n",
       " Max.   :1998.0   Max.   :1.000   Max.   :3.000   Max.   :1.0000  \n",
       "   int_memory        m_dep          mobile_wt        n_cores     \n",
       " Min.   : 2.00   Min.   :0.1000   Min.   : 80.0   Min.   :1.000  \n",
       " 1st Qu.:16.00   1st Qu.:0.2000   1st Qu.:109.0   1st Qu.:3.000  \n",
       " Median :32.00   Median :0.5000   Median :141.0   Median :4.000  \n",
       " Mean   :32.05   Mean   :0.5018   Mean   :140.2   Mean   :4.521  \n",
       " 3rd Qu.:48.00   3rd Qu.:0.8000   3rd Qu.:170.0   3rd Qu.:7.000  \n",
       " Max.   :64.00   Max.   :1.0000   Max.   :200.0   Max.   :8.000  \n",
       "       pc            px_width           ram            sc_w       \n",
       " Min.   : 0.000   Min.   : 500.0   Min.   : 256   Min.   : 0.000  \n",
       " 1st Qu.: 5.000   1st Qu.: 874.8   1st Qu.:1208   1st Qu.: 2.000  \n",
       " Median :10.000   Median :1247.0   Median :2146   Median : 5.000  \n",
       " Mean   : 9.916   Mean   :1251.5   Mean   :2124   Mean   : 5.767  \n",
       " 3rd Qu.:15.000   3rd Qu.:1633.0   3rd Qu.:3064   3rd Qu.: 9.000  \n",
       " Max.   :20.000   Max.   :1998.0   Max.   :3998   Max.   :18.000  \n",
       "   talk_time        three_g        touch_screen        wifi      \n",
       " Min.   : 2.00   Min.   :0.0000   Min.   :0.000   Min.   :0.000  \n",
       " 1st Qu.: 6.00   1st Qu.:1.0000   1st Qu.:0.000   1st Qu.:0.000  \n",
       " Median :11.00   Median :1.0000   Median :1.000   Median :1.000  \n",
       " Mean   :11.01   Mean   :0.7615   Mean   :0.503   Mean   :0.507  \n",
       " 3rd Qu.:16.00   3rd Qu.:1.0000   3rd Qu.:1.000   3rd Qu.:1.000  \n",
       " Max.   :20.00   Max.   :1.0000   Max.   :1.000   Max.   :1.000  \n",
       "  price_range  \n",
       " Min.   :0.00  \n",
       " 1st Qu.:0.75  \n",
       " Median :1.50  \n",
       " Mean   :1.50  \n",
       " 3rd Qu.:2.25  \n",
       " Max.   :3.00  "
      ]
     },
     "metadata": {},
     "output_type": "display_data"
    }
   ],
   "source": [
    "summary(mobileData_c2)"
   ]
  },
  {
   "cell_type": "markdown",
   "metadata": {},
   "source": [
    "## Normalizacion de variables de Entrada"
   ]
  },
  {
   "cell_type": "markdown",
   "metadata": {},
   "source": [
    "- Del resumen de variables se observa que existe cierta variabilidad y diferencias de escala entre valores maximos y minimos de las variables. Por lo tanto debido a que tratamos con redes neuronales, a nivel teorico se exige que las variables de entrada esten escaladas o normalizadas en el mismo rango. En este caso dado que las variables presentan una distribucion asimetrica emplearemos la **funcion de normalizacion**."
   ]
  },
  {
   "cell_type": "code",
   "execution_count": 60,
   "metadata": {},
   "outputs": [],
   "source": [
    "#Funcion de normalizacion de datos\n",
    "normalize <- function(x){\n",
    "    return((x-min(x))/ (max(x)-min(x)))\n",
    "}"
   ]
  },
  {
   "cell_type": "code",
   "execution_count": 61,
   "metadata": {},
   "outputs": [
    {
     "data": {
      "text/html": [
       "<table>\n",
       "<thead><tr><th scope=col>battery_power</th><th scope=col>blue</th><th scope=col>clock_speed</th><th scope=col>dual_sim</th><th scope=col>int_memory</th><th scope=col>m_dep</th><th scope=col>mobile_wt</th><th scope=col>n_cores</th><th scope=col>pc</th><th scope=col>px_width</th><th scope=col>ram</th><th scope=col>sc_w</th><th scope=col>talk_time</th><th scope=col>three_g</th><th scope=col>touch_screen</th><th scope=col>wifi</th><th scope=col>price_range</th></tr></thead>\n",
       "<tbody>\n",
       "\t<tr><td>0.2106053   </td><td>0.0000000000</td><td>0.0005502751</td><td>0.0000000000</td><td>0.001750875 </td><td>0.0001500750</td><td>0.04702351  </td><td>0.0005002501</td><td>0.0005002501</td><td>0.1890945   </td><td>0.6375688   </td><td>0.0017508754</td><td>0.004752376 </td><td>0.0000000000</td><td>0.0000000000</td><td>0.0002501251</td><td>1           </td></tr>\n",
       "\t<tr><td>0.2553777   </td><td>0.0002501251</td><td>0.0001250625</td><td>0.0002501251</td><td>0.013256628 </td><td>0.0001750875</td><td>0.03401701  </td><td>0.0007503752</td><td>0.0015007504</td><td>0.4972486   </td><td>0.6580790   </td><td>0.0007503752</td><td>0.001750875 </td><td>0.0002501251</td><td>0.0002501251</td><td>0.0000000000</td><td>2           </td></tr>\n",
       "\t<tr><td>0.1408204   </td><td>0.0002501251</td><td>0.0001250625</td><td>0.0002501251</td><td>0.010255128 </td><td>0.0002251126</td><td>0.03626813  </td><td>0.0012506253</td><td>0.0015007504</td><td>0.4292146   </td><td>0.6510755   </td><td>0.0005002501</td><td>0.002251126 </td><td>0.0002501251</td><td>0.0002501251</td><td>0.0000000000</td><td>2           </td></tr>\n",
       "\t<tr><td>0.1538269   </td><td>0.0002501251</td><td>0.0006253127</td><td>0.0000000000</td><td>0.002501251 </td><td>0.0002001001</td><td>0.03276638  </td><td>0.0015007504</td><td>0.0022511256</td><td>0.4467234   </td><td>0.6925963   </td><td>0.0020010005</td><td>0.002751376 </td><td>0.0002501251</td><td>0.0000000000</td><td>0.0000000000</td><td>2           </td></tr>\n",
       "\t<tr><td>0.4554777   </td><td>0.0002501251</td><td>0.0003001501</td><td>0.0000000000</td><td>0.011005503 </td><td>0.0001500750</td><td>0.03526763  </td><td>0.0005002501</td><td>0.0035017509</td><td>0.3031516   </td><td>0.3529265   </td><td>0.0005002501</td><td>0.003751876 </td><td>0.0002501251</td><td>0.0002501251</td><td>0.0000000000</td><td>1           </td></tr>\n",
       "\t<tr><td>0.4649825   </td><td>0.0000000000</td><td>0.0001250625</td><td>0.0002501251</td><td>0.005502751 </td><td>0.0001750875</td><td>0.04102051  </td><td>0.0002501251</td><td>0.0017508754</td><td>0.4137069   </td><td>0.2668834   </td><td>0.0002501251</td><td>0.002501251 </td><td>0.0002501251</td><td>0.0000000000</td><td>0.0000000000</td><td>1           </td></tr>\n",
       "</tbody>\n",
       "</table>\n"
      ],
      "text/latex": [
       "\\begin{tabular}{r|lllllllllllllllll}\n",
       " battery\\_power & blue & clock\\_speed & dual\\_sim & int\\_memory & m\\_dep & mobile\\_wt & n\\_cores & pc & px\\_width & ram & sc\\_w & talk\\_time & three\\_g & touch\\_screen & wifi & price\\_range\\\\\n",
       "\\hline\n",
       "\t 0.2106053    & 0.0000000000 & 0.0005502751 & 0.0000000000 & 0.001750875  & 0.0001500750 & 0.04702351   & 0.0005002501 & 0.0005002501 & 0.1890945    & 0.6375688    & 0.0017508754 & 0.004752376  & 0.0000000000 & 0.0000000000 & 0.0002501251 & 1           \\\\\n",
       "\t 0.2553777    & 0.0002501251 & 0.0001250625 & 0.0002501251 & 0.013256628  & 0.0001750875 & 0.03401701   & 0.0007503752 & 0.0015007504 & 0.4972486    & 0.6580790    & 0.0007503752 & 0.001750875  & 0.0002501251 & 0.0002501251 & 0.0000000000 & 2           \\\\\n",
       "\t 0.1408204    & 0.0002501251 & 0.0001250625 & 0.0002501251 & 0.010255128  & 0.0002251126 & 0.03626813   & 0.0012506253 & 0.0015007504 & 0.4292146    & 0.6510755    & 0.0005002501 & 0.002251126  & 0.0002501251 & 0.0002501251 & 0.0000000000 & 2           \\\\\n",
       "\t 0.1538269    & 0.0002501251 & 0.0006253127 & 0.0000000000 & 0.002501251  & 0.0002001001 & 0.03276638   & 0.0015007504 & 0.0022511256 & 0.4467234    & 0.6925963    & 0.0020010005 & 0.002751376  & 0.0002501251 & 0.0000000000 & 0.0000000000 & 2           \\\\\n",
       "\t 0.4554777    & 0.0002501251 & 0.0003001501 & 0.0000000000 & 0.011005503  & 0.0001500750 & 0.03526763   & 0.0005002501 & 0.0035017509 & 0.3031516    & 0.3529265    & 0.0005002501 & 0.003751876  & 0.0002501251 & 0.0002501251 & 0.0000000000 & 1           \\\\\n",
       "\t 0.4649825    & 0.0000000000 & 0.0001250625 & 0.0002501251 & 0.005502751  & 0.0001750875 & 0.04102051   & 0.0002501251 & 0.0017508754 & 0.4137069    & 0.2668834    & 0.0002501251 & 0.002501251  & 0.0002501251 & 0.0000000000 & 0.0000000000 & 1           \\\\\n",
       "\\end{tabular}\n"
      ],
      "text/markdown": [
       "\n",
       "| battery_power | blue | clock_speed | dual_sim | int_memory | m_dep | mobile_wt | n_cores | pc | px_width | ram | sc_w | talk_time | three_g | touch_screen | wifi | price_range |\n",
       "|---|---|---|---|---|---|---|---|---|---|---|---|---|---|---|---|---|\n",
       "| 0.2106053    | 0.0000000000 | 0.0005502751 | 0.0000000000 | 0.001750875  | 0.0001500750 | 0.04702351   | 0.0005002501 | 0.0005002501 | 0.1890945    | 0.6375688    | 0.0017508754 | 0.004752376  | 0.0000000000 | 0.0000000000 | 0.0002501251 | 1            |\n",
       "| 0.2553777    | 0.0002501251 | 0.0001250625 | 0.0002501251 | 0.013256628  | 0.0001750875 | 0.03401701   | 0.0007503752 | 0.0015007504 | 0.4972486    | 0.6580790    | 0.0007503752 | 0.001750875  | 0.0002501251 | 0.0002501251 | 0.0000000000 | 2            |\n",
       "| 0.1408204    | 0.0002501251 | 0.0001250625 | 0.0002501251 | 0.010255128  | 0.0002251126 | 0.03626813   | 0.0012506253 | 0.0015007504 | 0.4292146    | 0.6510755    | 0.0005002501 | 0.002251126  | 0.0002501251 | 0.0002501251 | 0.0000000000 | 2            |\n",
       "| 0.1538269    | 0.0002501251 | 0.0006253127 | 0.0000000000 | 0.002501251  | 0.0002001001 | 0.03276638   | 0.0015007504 | 0.0022511256 | 0.4467234    | 0.6925963    | 0.0020010005 | 0.002751376  | 0.0002501251 | 0.0000000000 | 0.0000000000 | 2            |\n",
       "| 0.4554777    | 0.0002501251 | 0.0003001501 | 0.0000000000 | 0.011005503  | 0.0001500750 | 0.03526763   | 0.0005002501 | 0.0035017509 | 0.3031516    | 0.3529265    | 0.0005002501 | 0.003751876  | 0.0002501251 | 0.0002501251 | 0.0000000000 | 1            |\n",
       "| 0.4649825    | 0.0000000000 | 0.0001250625 | 0.0002501251 | 0.005502751  | 0.0001750875 | 0.04102051   | 0.0002501251 | 0.0017508754 | 0.4137069    | 0.2668834    | 0.0002501251 | 0.002501251  | 0.0002501251 | 0.0000000000 | 0.0000000000 | 1            |\n",
       "\n"
      ],
      "text/plain": [
       "  battery_power blue         clock_speed  dual_sim     int_memory  m_dep       \n",
       "1 0.2106053     0.0000000000 0.0005502751 0.0000000000 0.001750875 0.0001500750\n",
       "2 0.2553777     0.0002501251 0.0001250625 0.0002501251 0.013256628 0.0001750875\n",
       "3 0.1408204     0.0002501251 0.0001250625 0.0002501251 0.010255128 0.0002251126\n",
       "4 0.1538269     0.0002501251 0.0006253127 0.0000000000 0.002501251 0.0002001001\n",
       "5 0.4554777     0.0002501251 0.0003001501 0.0000000000 0.011005503 0.0001500750\n",
       "6 0.4649825     0.0000000000 0.0001250625 0.0002501251 0.005502751 0.0001750875\n",
       "  mobile_wt  n_cores      pc           px_width  ram       sc_w        \n",
       "1 0.04702351 0.0005002501 0.0005002501 0.1890945 0.6375688 0.0017508754\n",
       "2 0.03401701 0.0007503752 0.0015007504 0.4972486 0.6580790 0.0007503752\n",
       "3 0.03626813 0.0012506253 0.0015007504 0.4292146 0.6510755 0.0005002501\n",
       "4 0.03276638 0.0015007504 0.0022511256 0.4467234 0.6925963 0.0020010005\n",
       "5 0.03526763 0.0005002501 0.0035017509 0.3031516 0.3529265 0.0005002501\n",
       "6 0.04102051 0.0002501251 0.0017508754 0.4137069 0.2668834 0.0002501251\n",
       "  talk_time   three_g      touch_screen wifi         price_range\n",
       "1 0.004752376 0.0000000000 0.0000000000 0.0002501251 1          \n",
       "2 0.001750875 0.0002501251 0.0002501251 0.0000000000 2          \n",
       "3 0.002251126 0.0002501251 0.0002501251 0.0000000000 2          \n",
       "4 0.002751376 0.0002501251 0.0000000000 0.0000000000 2          \n",
       "5 0.003751876 0.0002501251 0.0002501251 0.0000000000 1          \n",
       "6 0.002501251 0.0002501251 0.0000000000 0.0000000000 1          "
      ]
     },
     "metadata": {},
     "output_type": "display_data"
    }
   ],
   "source": [
    "mobileData_nn<-mobileData_c2\n",
    "mobileData_nn[,1:16] = normalize(mobileData_nn[,1:16])\n",
    "head(mobileData_nn)"
   ]
  },
  {
   "cell_type": "markdown",
   "metadata": {},
   "source": [
    "## Conversion de la variable objetivo a variable dummy"
   ]
  },
  {
   "cell_type": "code",
   "execution_count": 62,
   "metadata": {
    "scrolled": false
   },
   "outputs": [
    {
     "name": "stdout",
     "output_type": "stream",
     "text": [
      "'data.frame':\t2000 obs. of  21 variables:\n",
      " $ battery_power: num  0.211 0.255 0.141 0.154 0.455 ...\n",
      " $ blue         : num  0 0.00025 0.00025 0.00025 0.00025 ...\n",
      " $ clock_speed  : num  0.00055 0.000125 0.000125 0.000625 0.0003 ...\n",
      " $ dual_sim     : num  0 0.00025 0.00025 0 0 ...\n",
      " $ int_memory   : num  0.00175 0.01326 0.01026 0.0025 0.01101 ...\n",
      " $ m_dep        : num  0.00015 0.000175 0.000225 0.0002 0.00015 ...\n",
      " $ mobile_wt    : num  0.047 0.034 0.0363 0.0328 0.0353 ...\n",
      " $ n_cores      : num  0.0005 0.00075 0.00125 0.0015 0.0005 ...\n",
      " $ pc           : num  0.0005 0.0015 0.0015 0.00225 0.0035 ...\n",
      " $ px_width     : num  0.189 0.497 0.429 0.447 0.303 ...\n",
      " $ ram          : num  0.638 0.658 0.651 0.693 0.353 ...\n",
      " $ sc_w         : num  0.00175 0.00075 0.0005 0.002 0.0005 ...\n",
      " $ talk_time    : num  0.00475 0.00175 0.00225 0.00275 0.00375 ...\n",
      " $ three_g      : num  0 0.00025 0.00025 0.00025 0.00025 ...\n",
      " $ touch_screen : num  0 0.00025 0.00025 0 0.00025 ...\n",
      " $ wifi         : num  0.00025 0 0 0 0 ...\n",
      " $ price_range  : int  1 2 2 2 1 1 3 0 0 0 ...\n",
      " $ X1           : num  0 0 0 0 0 0 0 1 1 1 ...\n",
      " $ X2           : num  1 0 0 0 1 1 0 0 0 0 ...\n",
      " $ X3           : num  0 1 1 1 0 0 0 0 0 0 ...\n",
      " $ X4           : num  0 0 0 0 0 0 1 0 0 0 ...\n"
     ]
    }
   ],
   "source": [
    "#Convertimos la columna de la variable \"price_range\" en 04 columnas vectores de 1 y 0s.\n",
    "library(CatEncoders)\n",
    "x2<-matrix(mobileData_nn$price_range)\n",
    "oenc <- OneHotEncoder.fit(x2)\n",
    "z<- transform(oenc,x2,sparse=FALSE)\n",
    "mobileData_dummy <-data.frame(mobileData_nn,z)\n",
    "str(mobileData_dummy)"
   ]
  },
  {
   "cell_type": "markdown",
   "metadata": {},
   "source": [
    "## Division del dataset en Conjuntos de Training y Testing"
   ]
  },
  {
   "cell_type": "code",
   "execution_count": 63,
   "metadata": {},
   "outputs": [
    {
     "data": {
      "text/html": [
       "<table>\n",
       "<thead><tr><th scope=col>battery_power</th><th scope=col>blue</th><th scope=col>clock_speed</th><th scope=col>dual_sim</th><th scope=col>int_memory</th><th scope=col>m_dep</th><th scope=col>mobile_wt</th><th scope=col>n_cores</th><th scope=col>pc</th><th scope=col>px_width</th><th scope=col>...</th><th scope=col>sc_w</th><th scope=col>talk_time</th><th scope=col>three_g</th><th scope=col>touch_screen</th><th scope=col>wifi</th><th scope=col>price_range</th><th scope=col>X1</th><th scope=col>X2</th><th scope=col>X3</th><th scope=col>X4</th></tr></thead>\n",
       "<tbody>\n",
       "\t<tr><td>0.2106053   </td><td>0.0000000000</td><td>0.0005502751</td><td>0.0000000000</td><td>0.001750875 </td><td>0.0001500750</td><td>0.04702351  </td><td>0.0005002501</td><td>0.0005002501</td><td>0.1890945   </td><td>...         </td><td>0.0017508754</td><td>0.004752376 </td><td>0.0000000000</td><td>0.0000000000</td><td>0.0002501251</td><td>1           </td><td>0           </td><td>1           </td><td>0           </td><td>0           </td></tr>\n",
       "\t<tr><td>0.2553777   </td><td>0.0002501251</td><td>0.0001250625</td><td>0.0002501251</td><td>0.013256628 </td><td>0.0001750875</td><td>0.03401701  </td><td>0.0007503752</td><td>0.0015007504</td><td>0.4972486   </td><td>...         </td><td>0.0007503752</td><td>0.001750875 </td><td>0.0002501251</td><td>0.0002501251</td><td>0.0000000000</td><td>2           </td><td>0           </td><td>0           </td><td>1           </td><td>0           </td></tr>\n",
       "\t<tr><td>0.1408204   </td><td>0.0002501251</td><td>0.0001250625</td><td>0.0002501251</td><td>0.010255128 </td><td>0.0002251126</td><td>0.03626813  </td><td>0.0012506253</td><td>0.0015007504</td><td>0.4292146   </td><td>...         </td><td>0.0005002501</td><td>0.002251126 </td><td>0.0002501251</td><td>0.0002501251</td><td>0.0000000000</td><td>2           </td><td>0           </td><td>0           </td><td>1           </td><td>0           </td></tr>\n",
       "\t<tr><td>0.1538269   </td><td>0.0002501251</td><td>0.0006253127</td><td>0.0000000000</td><td>0.002501251 </td><td>0.0002001001</td><td>0.03276638  </td><td>0.0015007504</td><td>0.0022511256</td><td>0.4467234   </td><td>...         </td><td>0.0020010005</td><td>0.002751376 </td><td>0.0002501251</td><td>0.0000000000</td><td>0.0000000000</td><td>2           </td><td>0           </td><td>0           </td><td>1           </td><td>0           </td></tr>\n",
       "\t<tr><td>0.4554777   </td><td>0.0002501251</td><td>0.0003001501</td><td>0.0000000000</td><td>0.011005503 </td><td>0.0001500750</td><td>0.03526763  </td><td>0.0005002501</td><td>0.0035017509</td><td>0.3031516   </td><td>...         </td><td>0.0005002501</td><td>0.003751876 </td><td>0.0002501251</td><td>0.0002501251</td><td>0.0000000000</td><td>1           </td><td>0           </td><td>1           </td><td>0           </td><td>0           </td></tr>\n",
       "\t<tr><td>0.4649825   </td><td>0.0000000000</td><td>0.0001250625</td><td>0.0002501251</td><td>0.005502751 </td><td>0.0001750875</td><td>0.04102051  </td><td>0.0002501251</td><td>0.0017508754</td><td>0.4137069   </td><td>...         </td><td>0.0002501251</td><td>0.002501251 </td><td>0.0002501251</td><td>0.0000000000</td><td>0.0000000000</td><td>1           </td><td>0           </td><td>1           </td><td>0           </td><td>0           </td></tr>\n",
       "</tbody>\n",
       "</table>\n"
      ],
      "text/latex": [
       "\\begin{tabular}{r|lllllllllllllllllllll}\n",
       " battery\\_power & blue & clock\\_speed & dual\\_sim & int\\_memory & m\\_dep & mobile\\_wt & n\\_cores & pc & px\\_width & ... & sc\\_w & talk\\_time & three\\_g & touch\\_screen & wifi & price\\_range & X1 & X2 & X3 & X4\\\\\n",
       "\\hline\n",
       "\t 0.2106053    & 0.0000000000 & 0.0005502751 & 0.0000000000 & 0.001750875  & 0.0001500750 & 0.04702351   & 0.0005002501 & 0.0005002501 & 0.1890945    & ...          & 0.0017508754 & 0.004752376  & 0.0000000000 & 0.0000000000 & 0.0002501251 & 1            & 0            & 1            & 0            & 0           \\\\\n",
       "\t 0.2553777    & 0.0002501251 & 0.0001250625 & 0.0002501251 & 0.013256628  & 0.0001750875 & 0.03401701   & 0.0007503752 & 0.0015007504 & 0.4972486    & ...          & 0.0007503752 & 0.001750875  & 0.0002501251 & 0.0002501251 & 0.0000000000 & 2            & 0            & 0            & 1            & 0           \\\\\n",
       "\t 0.1408204    & 0.0002501251 & 0.0001250625 & 0.0002501251 & 0.010255128  & 0.0002251126 & 0.03626813   & 0.0012506253 & 0.0015007504 & 0.4292146    & ...          & 0.0005002501 & 0.002251126  & 0.0002501251 & 0.0002501251 & 0.0000000000 & 2            & 0            & 0            & 1            & 0           \\\\\n",
       "\t 0.1538269    & 0.0002501251 & 0.0006253127 & 0.0000000000 & 0.002501251  & 0.0002001001 & 0.03276638   & 0.0015007504 & 0.0022511256 & 0.4467234    & ...          & 0.0020010005 & 0.002751376  & 0.0002501251 & 0.0000000000 & 0.0000000000 & 2            & 0            & 0            & 1            & 0           \\\\\n",
       "\t 0.4554777    & 0.0002501251 & 0.0003001501 & 0.0000000000 & 0.011005503  & 0.0001500750 & 0.03526763   & 0.0005002501 & 0.0035017509 & 0.3031516    & ...          & 0.0005002501 & 0.003751876  & 0.0002501251 & 0.0002501251 & 0.0000000000 & 1            & 0            & 1            & 0            & 0           \\\\\n",
       "\t 0.4649825    & 0.0000000000 & 0.0001250625 & 0.0002501251 & 0.005502751  & 0.0001750875 & 0.04102051   & 0.0002501251 & 0.0017508754 & 0.4137069    & ...          & 0.0002501251 & 0.002501251  & 0.0002501251 & 0.0000000000 & 0.0000000000 & 1            & 0            & 1            & 0            & 0           \\\\\n",
       "\\end{tabular}\n"
      ],
      "text/markdown": [
       "\n",
       "| battery_power | blue | clock_speed | dual_sim | int_memory | m_dep | mobile_wt | n_cores | pc | px_width | ... | sc_w | talk_time | three_g | touch_screen | wifi | price_range | X1 | X2 | X3 | X4 |\n",
       "|---|---|---|---|---|---|---|---|---|---|---|---|---|---|---|---|---|---|---|---|---|\n",
       "| 0.2106053    | 0.0000000000 | 0.0005502751 | 0.0000000000 | 0.001750875  | 0.0001500750 | 0.04702351   | 0.0005002501 | 0.0005002501 | 0.1890945    | ...          | 0.0017508754 | 0.004752376  | 0.0000000000 | 0.0000000000 | 0.0002501251 | 1            | 0            | 1            | 0            | 0            |\n",
       "| 0.2553777    | 0.0002501251 | 0.0001250625 | 0.0002501251 | 0.013256628  | 0.0001750875 | 0.03401701   | 0.0007503752 | 0.0015007504 | 0.4972486    | ...          | 0.0007503752 | 0.001750875  | 0.0002501251 | 0.0002501251 | 0.0000000000 | 2            | 0            | 0            | 1            | 0            |\n",
       "| 0.1408204    | 0.0002501251 | 0.0001250625 | 0.0002501251 | 0.010255128  | 0.0002251126 | 0.03626813   | 0.0012506253 | 0.0015007504 | 0.4292146    | ...          | 0.0005002501 | 0.002251126  | 0.0002501251 | 0.0002501251 | 0.0000000000 | 2            | 0            | 0            | 1            | 0            |\n",
       "| 0.1538269    | 0.0002501251 | 0.0006253127 | 0.0000000000 | 0.002501251  | 0.0002001001 | 0.03276638   | 0.0015007504 | 0.0022511256 | 0.4467234    | ...          | 0.0020010005 | 0.002751376  | 0.0002501251 | 0.0000000000 | 0.0000000000 | 2            | 0            | 0            | 1            | 0            |\n",
       "| 0.4554777    | 0.0002501251 | 0.0003001501 | 0.0000000000 | 0.011005503  | 0.0001500750 | 0.03526763   | 0.0005002501 | 0.0035017509 | 0.3031516    | ...          | 0.0005002501 | 0.003751876  | 0.0002501251 | 0.0002501251 | 0.0000000000 | 1            | 0            | 1            | 0            | 0            |\n",
       "| 0.4649825    | 0.0000000000 | 0.0001250625 | 0.0002501251 | 0.005502751  | 0.0001750875 | 0.04102051   | 0.0002501251 | 0.0017508754 | 0.4137069    | ...          | 0.0002501251 | 0.002501251  | 0.0002501251 | 0.0000000000 | 0.0000000000 | 1            | 0            | 1            | 0            | 0            |\n",
       "\n"
      ],
      "text/plain": [
       "  battery_power blue         clock_speed  dual_sim     int_memory  m_dep       \n",
       "1 0.2106053     0.0000000000 0.0005502751 0.0000000000 0.001750875 0.0001500750\n",
       "2 0.2553777     0.0002501251 0.0001250625 0.0002501251 0.013256628 0.0001750875\n",
       "3 0.1408204     0.0002501251 0.0001250625 0.0002501251 0.010255128 0.0002251126\n",
       "4 0.1538269     0.0002501251 0.0006253127 0.0000000000 0.002501251 0.0002001001\n",
       "5 0.4554777     0.0002501251 0.0003001501 0.0000000000 0.011005503 0.0001500750\n",
       "6 0.4649825     0.0000000000 0.0001250625 0.0002501251 0.005502751 0.0001750875\n",
       "  mobile_wt  n_cores      pc           px_width  ... sc_w         talk_time  \n",
       "1 0.04702351 0.0005002501 0.0005002501 0.1890945 ... 0.0017508754 0.004752376\n",
       "2 0.03401701 0.0007503752 0.0015007504 0.4972486 ... 0.0007503752 0.001750875\n",
       "3 0.03626813 0.0012506253 0.0015007504 0.4292146 ... 0.0005002501 0.002251126\n",
       "4 0.03276638 0.0015007504 0.0022511256 0.4467234 ... 0.0020010005 0.002751376\n",
       "5 0.03526763 0.0005002501 0.0035017509 0.3031516 ... 0.0005002501 0.003751876\n",
       "6 0.04102051 0.0002501251 0.0017508754 0.4137069 ... 0.0002501251 0.002501251\n",
       "  three_g      touch_screen wifi         price_range X1 X2 X3 X4\n",
       "1 0.0000000000 0.0000000000 0.0002501251 1           0  1  0  0 \n",
       "2 0.0002501251 0.0002501251 0.0000000000 2           0  0  1  0 \n",
       "3 0.0002501251 0.0002501251 0.0000000000 2           0  0  1  0 \n",
       "4 0.0002501251 0.0000000000 0.0000000000 2           0  0  1  0 \n",
       "5 0.0002501251 0.0002501251 0.0000000000 1           0  1  0  0 \n",
       "6 0.0002501251 0.0000000000 0.0000000000 1           0  1  0  0 "
      ]
     },
     "metadata": {},
     "output_type": "display_data"
    },
    {
     "data": {
      "text/html": [
       "<table>\n",
       "<thead><tr><th></th><th scope=col>battery_power</th><th scope=col>blue</th><th scope=col>clock_speed</th><th scope=col>dual_sim</th><th scope=col>int_memory</th><th scope=col>m_dep</th><th scope=col>mobile_wt</th><th scope=col>n_cores</th><th scope=col>pc</th><th scope=col>px_width</th><th scope=col>...</th><th scope=col>sc_w</th><th scope=col>talk_time</th><th scope=col>three_g</th><th scope=col>touch_screen</th><th scope=col>wifi</th><th scope=col>price_range</th><th scope=col>X1</th><th scope=col>X2</th><th scope=col>X3</th><th scope=col>X4</th></tr></thead>\n",
       "<tbody>\n",
       "\t<tr><th scope=row>14</th><td>0.2008504   </td><td>0.0002501251</td><td>0.0005252626</td><td>0.0000000000</td><td>0.004252126 </td><td>2.501251e-04</td><td>0.04952476  </td><td>0.0010005003</td><td>0.002751376 </td><td>0.3601801   </td><td>...         </td><td>0.0002501251</td><td>0.0010005003</td><td>0.0002501251</td><td>0.0000000000</td><td>0.0002501251</td><td>2           </td><td>0           </td><td>0           </td><td>1           </td><td>0           </td></tr>\n",
       "\t<tr><th scope=row>16</th><td>0.1938469   </td><td>0.0000000000</td><td>0.0002501251</td><td>0.0000000000</td><td>0.011505753 </td><td>1.750875e-04</td><td>0.03976988  </td><td>0.0005002501</td><td>0.004002001 </td><td>0.4662331   </td><td>...         </td><td>0.0037518759</td><td>0.0027513757</td><td>0.0002501251</td><td>0.0002501251</td><td>0.0002501251</td><td>0           </td><td>1           </td><td>0           </td><td>0           </td><td>0           </td></tr>\n",
       "\t<tr><th scope=row>17</th><td>0.2096048   </td><td>0.0000000000</td><td>0.0001250625</td><td>0.0000000000</td><td>0.003251626 </td><td>2.501251e-05</td><td>0.04902451  </td><td>0.0020010005</td><td>0.001000500 </td><td>0.4627314   </td><td>...         </td><td>0.0022511256</td><td>0.0047523762</td><td>0.0002501251</td><td>0.0000000000</td><td>0.0002501251</td><td>3           </td><td>0           </td><td>0           </td><td>0           </td><td>1           </td></tr>\n",
       "\t<tr><th scope=row>19</th><td>0.2828914   </td><td>0.0002501251</td><td>0.0001250625</td><td>0.0002501251</td><td>0.012256128 </td><td>1.500750e-04</td><td>0.02526263  </td><td>0.0012506253</td><td>0.004502251 </td><td>0.2196098   </td><td>...         </td><td>0.0032516258</td><td>0.0040020010</td><td>0.0002501251</td><td>0.0002501251</td><td>0.0000000000</td><td>1           </td><td>0           </td><td>1           </td><td>0           </td><td>0           </td></tr>\n",
       "\t<tr><th scope=row>20</th><td>0.1705853   </td><td>0.0002501251</td><td>0.0001250625</td><td>0.0000000000</td><td>0.004752376 </td><td>2.501251e-04</td><td>0.03026513  </td><td>0.0010005003</td><td>0.002751376 </td><td>0.2661331   </td><td>...         </td><td>0.0002501251</td><td>0.0045022511</td><td>0.0000000000</td><td>0.0002501251</td><td>0.0002501251</td><td>1           </td><td>0           </td><td>1           </td><td>0           </td><td>0           </td></tr>\n",
       "\t<tr><th scope=row>21</th><td>0.1930965   </td><td>0.0000000000</td><td>0.0002751376</td><td>0.0002501251</td><td>0.009754877 </td><td>2.001001e-04</td><td>0.02026013  </td><td>0.0017508754</td><td>0.003501751 </td><td>0.4637319   </td><td>...         </td><td>0.0037518759</td><td>0.0007503752</td><td>0.0002501251</td><td>0.0002501251</td><td>0.0000000000</td><td>3           </td><td>0           </td><td>0           </td><td>0           </td><td>1           </td></tr>\n",
       "</tbody>\n",
       "</table>\n"
      ],
      "text/latex": [
       "\\begin{tabular}{r|lllllllllllllllllllll}\n",
       "  & battery\\_power & blue & clock\\_speed & dual\\_sim & int\\_memory & m\\_dep & mobile\\_wt & n\\_cores & pc & px\\_width & ... & sc\\_w & talk\\_time & three\\_g & touch\\_screen & wifi & price\\_range & X1 & X2 & X3 & X4\\\\\n",
       "\\hline\n",
       "\t14 & 0.2008504    & 0.0002501251 & 0.0005252626 & 0.0000000000 & 0.004252126  & 2.501251e-04 & 0.04952476   & 0.0010005003 & 0.002751376  & 0.3601801    & ...          & 0.0002501251 & 0.0010005003 & 0.0002501251 & 0.0000000000 & 0.0002501251 & 2            & 0            & 0            & 1            & 0           \\\\\n",
       "\t16 & 0.1938469    & 0.0000000000 & 0.0002501251 & 0.0000000000 & 0.011505753  & 1.750875e-04 & 0.03976988   & 0.0005002501 & 0.004002001  & 0.4662331    & ...          & 0.0037518759 & 0.0027513757 & 0.0002501251 & 0.0002501251 & 0.0002501251 & 0            & 1            & 0            & 0            & 0           \\\\\n",
       "\t17 & 0.2096048    & 0.0000000000 & 0.0001250625 & 0.0000000000 & 0.003251626  & 2.501251e-05 & 0.04902451   & 0.0020010005 & 0.001000500  & 0.4627314    & ...          & 0.0022511256 & 0.0047523762 & 0.0002501251 & 0.0000000000 & 0.0002501251 & 3            & 0            & 0            & 0            & 1           \\\\\n",
       "\t19 & 0.2828914    & 0.0002501251 & 0.0001250625 & 0.0002501251 & 0.012256128  & 1.500750e-04 & 0.02526263   & 0.0012506253 & 0.004502251  & 0.2196098    & ...          & 0.0032516258 & 0.0040020010 & 0.0002501251 & 0.0002501251 & 0.0000000000 & 1            & 0            & 1            & 0            & 0           \\\\\n",
       "\t20 & 0.1705853    & 0.0002501251 & 0.0001250625 & 0.0000000000 & 0.004752376  & 2.501251e-04 & 0.03026513   & 0.0010005003 & 0.002751376  & 0.2661331    & ...          & 0.0002501251 & 0.0045022511 & 0.0000000000 & 0.0002501251 & 0.0002501251 & 1            & 0            & 1            & 0            & 0           \\\\\n",
       "\t21 & 0.1930965    & 0.0000000000 & 0.0002751376 & 0.0002501251 & 0.009754877  & 2.001001e-04 & 0.02026013   & 0.0017508754 & 0.003501751  & 0.4637319    & ...          & 0.0037518759 & 0.0007503752 & 0.0002501251 & 0.0002501251 & 0.0000000000 & 3            & 0            & 0            & 0            & 1           \\\\\n",
       "\\end{tabular}\n"
      ],
      "text/markdown": [
       "\n",
       "| <!--/--> | battery_power | blue | clock_speed | dual_sim | int_memory | m_dep | mobile_wt | n_cores | pc | px_width | ... | sc_w | talk_time | three_g | touch_screen | wifi | price_range | X1 | X2 | X3 | X4 |\n",
       "|---|---|---|---|---|---|---|---|---|---|---|---|---|---|---|---|---|---|---|---|---|---|\n",
       "| 14 | 0.2008504    | 0.0002501251 | 0.0005252626 | 0.0000000000 | 0.004252126  | 2.501251e-04 | 0.04952476   | 0.0010005003 | 0.002751376  | 0.3601801    | ...          | 0.0002501251 | 0.0010005003 | 0.0002501251 | 0.0000000000 | 0.0002501251 | 2            | 0            | 0            | 1            | 0            |\n",
       "| 16 | 0.1938469    | 0.0000000000 | 0.0002501251 | 0.0000000000 | 0.011505753  | 1.750875e-04 | 0.03976988   | 0.0005002501 | 0.004002001  | 0.4662331    | ...          | 0.0037518759 | 0.0027513757 | 0.0002501251 | 0.0002501251 | 0.0002501251 | 0            | 1            | 0            | 0            | 0            |\n",
       "| 17 | 0.2096048    | 0.0000000000 | 0.0001250625 | 0.0000000000 | 0.003251626  | 2.501251e-05 | 0.04902451   | 0.0020010005 | 0.001000500  | 0.4627314    | ...          | 0.0022511256 | 0.0047523762 | 0.0002501251 | 0.0000000000 | 0.0002501251 | 3            | 0            | 0            | 0            | 1            |\n",
       "| 19 | 0.2828914    | 0.0002501251 | 0.0001250625 | 0.0002501251 | 0.012256128  | 1.500750e-04 | 0.02526263   | 0.0012506253 | 0.004502251  | 0.2196098    | ...          | 0.0032516258 | 0.0040020010 | 0.0002501251 | 0.0002501251 | 0.0000000000 | 1            | 0            | 1            | 0            | 0            |\n",
       "| 20 | 0.1705853    | 0.0002501251 | 0.0001250625 | 0.0000000000 | 0.004752376  | 2.501251e-04 | 0.03026513   | 0.0010005003 | 0.002751376  | 0.2661331    | ...          | 0.0002501251 | 0.0045022511 | 0.0000000000 | 0.0002501251 | 0.0002501251 | 1            | 0            | 1            | 0            | 0            |\n",
       "| 21 | 0.1930965    | 0.0000000000 | 0.0002751376 | 0.0002501251 | 0.009754877  | 2.001001e-04 | 0.02026013   | 0.0017508754 | 0.003501751  | 0.4637319    | ...          | 0.0037518759 | 0.0007503752 | 0.0002501251 | 0.0002501251 | 0.0000000000 | 3            | 0            | 0            | 0            | 1            |\n",
       "\n"
      ],
      "text/plain": [
       "   battery_power blue         clock_speed  dual_sim     int_memory \n",
       "14 0.2008504     0.0002501251 0.0005252626 0.0000000000 0.004252126\n",
       "16 0.1938469     0.0000000000 0.0002501251 0.0000000000 0.011505753\n",
       "17 0.2096048     0.0000000000 0.0001250625 0.0000000000 0.003251626\n",
       "19 0.2828914     0.0002501251 0.0001250625 0.0002501251 0.012256128\n",
       "20 0.1705853     0.0002501251 0.0001250625 0.0000000000 0.004752376\n",
       "21 0.1930965     0.0000000000 0.0002751376 0.0002501251 0.009754877\n",
       "   m_dep        mobile_wt  n_cores      pc          px_width  ... sc_w        \n",
       "14 2.501251e-04 0.04952476 0.0010005003 0.002751376 0.3601801 ... 0.0002501251\n",
       "16 1.750875e-04 0.03976988 0.0005002501 0.004002001 0.4662331 ... 0.0037518759\n",
       "17 2.501251e-05 0.04902451 0.0020010005 0.001000500 0.4627314 ... 0.0022511256\n",
       "19 1.500750e-04 0.02526263 0.0012506253 0.004502251 0.2196098 ... 0.0032516258\n",
       "20 2.501251e-04 0.03026513 0.0010005003 0.002751376 0.2661331 ... 0.0002501251\n",
       "21 2.001001e-04 0.02026013 0.0017508754 0.003501751 0.4637319 ... 0.0037518759\n",
       "   talk_time    three_g      touch_screen wifi         price_range X1 X2 X3 X4\n",
       "14 0.0010005003 0.0002501251 0.0000000000 0.0002501251 2           0  0  1  0 \n",
       "16 0.0027513757 0.0002501251 0.0002501251 0.0002501251 0           1  0  0  0 \n",
       "17 0.0047523762 0.0002501251 0.0000000000 0.0002501251 3           0  0  0  1 \n",
       "19 0.0040020010 0.0002501251 0.0002501251 0.0000000000 1           0  1  0  0 \n",
       "20 0.0045022511 0.0000000000 0.0002501251 0.0002501251 1           0  1  0  0 \n",
       "21 0.0007503752 0.0002501251 0.0002501251 0.0000000000 3           0  0  0  1 "
      ]
     },
     "metadata": {},
     "output_type": "display_data"
    }
   ],
   "source": [
    "#Division de conjunto de training y testing\n",
    "library(caTools)\n",
    "split = sample.split(mobileData_dummy, SplitRatio = 0.75)\n",
    "NN.Training_Set = subset(mobileData_dummy, split == TRUE)\n",
    "NN.Testing_Set = subset(mobileData_dummy, split == FALSE)\n",
    "#Imprimimos el resultado de conjuntos de training y testing\n",
    "head(NN.Training_Set)\n",
    "head(NN.Testing_Set)"
   ]
  },
  {
   "cell_type": "markdown",
   "metadata": {},
   "source": [
    "## Entrenamiento de la Red Neurronal"
   ]
  },
  {
   "cell_type": "code",
   "execution_count": 64,
   "metadata": {},
   "outputs": [],
   "source": [
    "library(neuralnet)\n",
    "set.seed(1234)\n",
    "neural.model <- neuralnet(X1+X2+X3+X4~.,#\n",
    "                         rep = 3,\n",
    "                          threshold= 0.2,\n",
    "                          data= NN.Training_Set,   \n",
    "                          hidden = c(7,7),\n",
    "                          linear.output = FALSE,\n",
    "                          stepmax=1e6)"
   ]
  },
  {
   "cell_type": "code",
   "execution_count": 65,
   "metadata": {},
   "outputs": [
    {
     "name": "stdout",
     "output_type": "stream",
     "text": [
      "Best error reached: 0.332246 Best error reached: 0.335788 Best error reached: 0.381557"
     ]
    }
   ],
   "source": [
    "#Imprimimos el mejor error alcanzado por el modelo\n",
    "cat(sprintf(\"Best error reached: %f\", neural.model$result.matrix[c('error'), ]))"
   ]
  },
  {
   "cell_type": "markdown",
   "metadata": {},
   "source": [
    "## Prediccion de la Red Neuronal"
   ]
  },
  {
   "cell_type": "markdown",
   "metadata": {},
   "source": [
    "**Comparacion de Resultados Real Test vs Predichos - Por salida de neurona**"
   ]
  },
  {
   "cell_type": "code",
   "execution_count": 66,
   "metadata": {},
   "outputs": [
    {
     "data": {
      "text/html": [
       "<table>\n",
       "<thead><tr><th></th><th scope=col>Real</th><th scope=col>Pred_Class.1</th><th scope=col>Pred_Class.2</th><th scope=col>Pred_Class.3</th><th scope=col>Pred_Class.4</th></tr></thead>\n",
       "<tbody>\n",
       "\t<tr><th scope=row>14</th><td>2           </td><td>2.292615e-10</td><td>0.0101636873</td><td>0.9762780636</td><td>1.280554e-03</td></tr>\n",
       "\t<tr><th scope=row>16</th><td>0           </td><td>9.999314e-01</td><td>0.0136827762</td><td>0.0001163244</td><td>2.997379e-08</td></tr>\n",
       "\t<tr><th scope=row>17</th><td>3           </td><td>7.518649e-11</td><td>0.0009235905</td><td>0.0211103816</td><td>9.982772e-01</td></tr>\n",
       "\t<tr><th scope=row>19</th><td>1           </td><td>1.701388e-05</td><td>0.9911140083</td><td>0.0123192226</td><td>3.455287e-08</td></tr>\n",
       "\t<tr><th scope=row>20</th><td>1           </td><td>1.197855e-05</td><td>0.9923964866</td><td>0.0178996724</td><td>3.706252e-08</td></tr>\n",
       "\t<tr><th scope=row>21</th><td>3           </td><td>6.728574e-11</td><td>0.0010391002</td><td>0.0230566860</td><td>9.984365e-01</td></tr>\n",
       "</tbody>\n",
       "</table>\n"
      ],
      "text/latex": [
       "\\begin{tabular}{r|lllll}\n",
       "  & Real & Pred\\_Class.1 & Pred\\_Class.2 & Pred\\_Class.3 & Pred\\_Class.4\\\\\n",
       "\\hline\n",
       "\t14 & 2            & 2.292615e-10 & 0.0101636873 & 0.9762780636 & 1.280554e-03\\\\\n",
       "\t16 & 0            & 9.999314e-01 & 0.0136827762 & 0.0001163244 & 2.997379e-08\\\\\n",
       "\t17 & 3            & 7.518649e-11 & 0.0009235905 & 0.0211103816 & 9.982772e-01\\\\\n",
       "\t19 & 1            & 1.701388e-05 & 0.9911140083 & 0.0123192226 & 3.455287e-08\\\\\n",
       "\t20 & 1            & 1.197855e-05 & 0.9923964866 & 0.0178996724 & 3.706252e-08\\\\\n",
       "\t21 & 3            & 6.728574e-11 & 0.0010391002 & 0.0230566860 & 9.984365e-01\\\\\n",
       "\\end{tabular}\n"
      ],
      "text/markdown": [
       "\n",
       "| <!--/--> | Real | Pred_Class.1 | Pred_Class.2 | Pred_Class.3 | Pred_Class.4 |\n",
       "|---|---|---|---|---|---|\n",
       "| 14 | 2            | 2.292615e-10 | 0.0101636873 | 0.9762780636 | 1.280554e-03 |\n",
       "| 16 | 0            | 9.999314e-01 | 0.0136827762 | 0.0001163244 | 2.997379e-08 |\n",
       "| 17 | 3            | 7.518649e-11 | 0.0009235905 | 0.0211103816 | 9.982772e-01 |\n",
       "| 19 | 1            | 1.701388e-05 | 0.9911140083 | 0.0123192226 | 3.455287e-08 |\n",
       "| 20 | 1            | 1.197855e-05 | 0.9923964866 | 0.0178996724 | 3.706252e-08 |\n",
       "| 21 | 3            | 6.728574e-11 | 0.0010391002 | 0.0230566860 | 9.984365e-01 |\n",
       "\n"
      ],
      "text/plain": [
       "   Real Pred_Class.1 Pred_Class.2 Pred_Class.3 Pred_Class.4\n",
       "14 2    2.292615e-10 0.0101636873 0.9762780636 1.280554e-03\n",
       "16 0    9.999314e-01 0.0136827762 0.0001163244 2.997379e-08\n",
       "17 3    7.518649e-11 0.0009235905 0.0211103816 9.982772e-01\n",
       "19 1    1.701388e-05 0.9911140083 0.0123192226 3.455287e-08\n",
       "20 1    1.197855e-05 0.9923964866 0.0178996724 3.706252e-08\n",
       "21 3    6.728574e-11 0.0010391002 0.0230566860 9.984365e-01"
      ]
     },
     "metadata": {},
     "output_type": "display_data"
    }
   ],
   "source": [
    "#Salida de las 04 neuronas de la Red Neuronal\n",
    "NN.pred1 <- predict(neural.model,NN.Testing_Set)\n",
    "\n",
    "results <- data.frame(Real = NN.Testing_Set$price_range, Pred_Class = NN.pred1)\n",
    "head(results)"
   ]
  },
  {
   "cell_type": "markdown",
   "metadata": {},
   "source": [
    "**Comparacion de Resultados Test vs Predichos - Segun Salida Maxima**"
   ]
  },
  {
   "cell_type": "code",
   "execution_count": 67,
   "metadata": {
    "scrolled": false
   },
   "outputs": [
    {
     "data": {
      "text/html": [
       "<table>\n",
       "<thead><tr><th scope=col>Real</th><th scope=col>Prediction</th></tr></thead>\n",
       "<tbody>\n",
       "\t<tr><td>2</td><td>2</td></tr>\n",
       "\t<tr><td>0</td><td>0</td></tr>\n",
       "\t<tr><td>3</td><td>3</td></tr>\n",
       "\t<tr><td>1</td><td>1</td></tr>\n",
       "\t<tr><td>1</td><td>1</td></tr>\n",
       "\t<tr><td>3</td><td>3</td></tr>\n",
       "</tbody>\n",
       "</table>\n"
      ],
      "text/latex": [
       "\\begin{tabular}{r|ll}\n",
       " Real & Prediction\\\\\n",
       "\\hline\n",
       "\t 2 & 2\\\\\n",
       "\t 0 & 0\\\\\n",
       "\t 3 & 3\\\\\n",
       "\t 1 & 1\\\\\n",
       "\t 1 & 1\\\\\n",
       "\t 3 & 3\\\\\n",
       "\\end{tabular}\n"
      ],
      "text/markdown": [
       "\n",
       "| Real | Prediction |\n",
       "|---|---|\n",
       "| 2 | 2 |\n",
       "| 0 | 0 |\n",
       "| 3 | 3 |\n",
       "| 1 | 1 |\n",
       "| 1 | 1 |\n",
       "| 3 | 3 |\n",
       "\n"
      ],
      "text/plain": [
       "  Real Prediction\n",
       "1 2    2         \n",
       "2 0    0         \n",
       "3 3    3         \n",
       "4 1    1         \n",
       "5 1    1         \n",
       "6 3    3         "
      ]
     },
     "metadata": {},
     "output_type": "display_data"
    }
   ],
   "source": [
    "#Conversion de 04 vectores a 01 vector categorico\n",
    "NN.pred1_class <-(apply(NN.pred1,1,which.max)-1) \n",
    "#Visualizamos un resumen tabla de los valores reales(test) vs predichos\n",
    "comp <- data.frame(Real = NN.Testing_Set$price_range, \n",
    "                   Prediction = as.integer(data.frame(NN.pred1_class)$NN.pred1_class))\n",
    "head(comp)"
   ]
  },
  {
   "cell_type": "markdown",
   "metadata": {},
   "source": [
    "## Matriz de la Confusion"
   ]
  },
  {
   "cell_type": "code",
   "execution_count": 68,
   "metadata": {},
   "outputs": [
    {
     "name": "stdout",
     "output_type": "stream",
     "text": [
      "Confusion Matrix and Statistics\n",
      "\n",
      "          Reference\n",
      "Prediction   0   1   2   3\n",
      "         0 150   0   0   0\n",
      "         1   0 136   0   0\n",
      "         2   0   0 135   0\n",
      "         3   0   0   0 149\n",
      "\n",
      "Overall Statistics\n",
      "                                     \n",
      "               Accuracy : 1          \n",
      "                 95% CI : (0.9935, 1)\n",
      "    No Information Rate : 0.2632     \n",
      "    P-Value [Acc > NIR] : < 2.2e-16  \n",
      "                                     \n",
      "                  Kappa : 1          \n",
      "                                     \n",
      " Mcnemar's Test P-Value : NA         \n",
      "\n",
      "Statistics by Class:\n",
      "\n",
      "                     Class: 0 Class: 1 Class: 2 Class: 3\n",
      "Sensitivity            1.0000   1.0000   1.0000   1.0000\n",
      "Specificity            1.0000   1.0000   1.0000   1.0000\n",
      "Pos Pred Value         1.0000   1.0000   1.0000   1.0000\n",
      "Neg Pred Value         1.0000   1.0000   1.0000   1.0000\n",
      "Prevalence             0.2632   0.2386   0.2368   0.2614\n",
      "Detection Rate         0.2632   0.2386   0.2368   0.2614\n",
      "Detection Prevalence   0.2632   0.2386   0.2368   0.2614\n",
      "Balanced Accuracy      1.0000   1.0000   1.0000   1.0000\n"
     ]
    }
   ],
   "source": [
    "#Matriz de confusion\n",
    "cm2 = confusionMatrix(as.factor(NN.Testing_Set$price_range),\n",
    "                      as.factor(NN.pred1_class))\n",
    "print(cm2)"
   ]
  },
  {
   "cell_type": "markdown",
   "metadata": {},
   "source": [
    "- Se observa que la exactitud es 100%, es decir ha mejorado considerablemente, esto se debe a que localizando el valor maximo de los 04 vectores, minimiza el error al momento de clasificar las clases."
   ]
  },
  {
   "cell_type": "markdown",
   "metadata": {},
   "source": [
    "## Visualizacion de la Grafica de Prediccion vs Test"
   ]
  },
  {
   "cell_type": "code",
   "execution_count": 69,
   "metadata": {},
   "outputs": [
    {
     "data": {
      "image/png": "[encoded data removed]",
      "text/plain": [
       "Plot with title \"Real vs Predicho\""
      ]
     },
     "metadata": {},
     "output_type": "display_data"
    }
   ],
   "source": [
    "#Conversiona Dataframe de los valores Predichos\n",
    "NN.pred1_class_df=data.frame(NN.pred1_class)\n",
    "#Graficamos\n",
    "par(mfrow=c(1,1))\n",
    "plot(NN.Testing_Set$price_range ,\n",
    "     NN.pred1_class_df$NN.pred1_class, \n",
    "     col='red', main=\"Real vs Predicho\",pch=18,cex=0.7)\n",
    "abline(0,1,lwd=1)"
   ]
  },
  {
   "cell_type": "markdown",
   "metadata": {},
   "source": [
    "# COMPARACION RESULTADOS FINALES"
   ]
  },
  {
   "cell_type": "code",
   "execution_count": 70,
   "metadata": {},
   "outputs": [
    {
     "data": {
      "image/png": "[encoded data removed]",
      "text/plain": [
       "Plot with title \"Real vs Predicho- Red Neuronal\""
      ]
     },
     "metadata": {},
     "output_type": "display_data"
    }
   ],
   "source": [
    "par(mfcol=c(2,2))\n",
    "\n",
    "#Grafica dispersion de test vs predichos - maquina vector soporte\n",
    "par(mfrow = c(1, 2))\n",
    "plot(as.numeric(y.pred2),as.numeric(SVM.Testing_Set$price_range),\n",
    "     col='red', main=\"Real vs Predicho - SVM\",pch=18,cex=0.7)\n",
    "abline(0,1)\n",
    "#Grafica dispersion de test vs predichos - Red neuronal\n",
    "plot(NN.Testing_Set$price_range ,\n",
    "     NN.pred1_class_df$NN.pred1_class, \n",
    "     col='red', main=\"Real vs Predicho- Red Neuronal\",pch=18,cex=0.7)\n",
    "abline(0,1)"
   ]
  },
  {
   "cell_type": "markdown",
   "metadata": {},
   "source": [
    "## Comparacion de Matriz de Confusion"
   ]
  },
  {
   "cell_type": "code",
   "execution_count": 71,
   "metadata": {},
   "outputs": [
    {
     "data": {
      "text/plain": [
       "        real\n",
       "predicho  0  1  2  3\n",
       "       0 94 10  0  0\n",
       "       1  6 83  5  0\n",
       "       2  0  7 89  8\n",
       "       3  0  0  6 92"
      ]
     },
     "metadata": {},
     "output_type": "display_data"
    },
    {
     "name": "stdout",
     "output_type": "stream",
     "text": [
      "acierto - Maquina Vector Soporte: 89.5 %"
     ]
    }
   ],
   "source": [
    "#Calculo de matriz de confusion del modelo de maquina vector soporte\n",
    "MC<-table(predicho = y.pred2, real = SVM.Testing_Set$price_range)\n",
    "MC\n",
    "acierto <- (sum(diag(MC)))/(sum(MC))\n",
    "cat(\"acierto - Maquina Vector Soporte:\",acierto*100,\"%\")"
   ]
  },
  {
   "cell_type": "code",
   "execution_count": 72,
   "metadata": {},
   "outputs": [
    {
     "name": "stdout",
     "output_type": "stream",
     "text": [
      "        real\n",
      "predicho   0   1   2   3\n",
      "       0 150   0   0   0\n",
      "       1   0 136   0   0\n",
      "       2   0   0 135   0\n",
      "       3   0   0   0 149\n",
      "acierto - Red Neuronal: 100 %"
     ]
    }
   ],
   "source": [
    "#Matriz de confusion del modelo de red neuronal\n",
    "cm2 = table(predicho=as.factor(NN.pred1_class),\n",
    "                      real=as.factor(NN.Testing_Set$price_range))\n",
    "print(cm2)\n",
    "acierto <- (sum(diag(cm2)))/(sum(cm2))\n",
    "cat(\"acierto - Red Neuronal:\",acierto*100,\"%\")"
   ]
  },
  {
   "cell_type": "markdown",
   "metadata": {},
   "source": [
    "**Conclusion:**\n",
    "- Comparando la matriz de confusion obtenida por ambos modelos, se concluye que el mejor es el algoritmo de Redes Neuronales, dado que mantiene una mejor exactitud independientemente del overfitting que pueda presentar, asimismo considerando de que cada neurona predice un valor entre 0 y 1, pues a pesar que exista un error considerable , esta se mejora cuando localizamos el valor maximo entre las cuatro variables, dejandolo como la clase predicha.\n",
    "- Por lo contrario la matriz de confusion de la maquina vector soporte(svm) presenta mayor error en la clasificacion."
   ]
  },
  {
   "cell_type": "markdown",
   "metadata": {},
   "source": [
    "## Ventajas y Desventajas de los modelos"
   ]
  },
  {
   "cell_type": "markdown",
   "metadata": {},
   "source": [
    "### Algoritmo de maquina vector soporte"
   ]
  },
  {
   "cell_type": "markdown",
   "metadata": {},
   "source": [
    "Ventajas:\n",
    "- Durante pruebas se observa que trabaja relativamente eficiente en memoria, por lo que el costo computacional es ciertamente aceptable ya que dependera tambien en el tiempo que uno tarde en encontrar el parametro coste del modelo.\n",
    "- El entrenamiento es relativamente facil en comparacion con la Red Neuronal, por lo mismo que parametrizacion se basa principalmente en el coste e identificar el kernel apropiado, lo cual nos facilita identificando el coste mediante la funcion de \"Tune\".\n",
    "\n",
    "Desventajas:\n",
    "- Se observa que mientras mas variables son incluidas en el conjunto de entrenamiento, el error se incrementa, por lo tanto este algoritmo no es adecuado cuando se maneja grandes cantidades de datos.\n",
    "- Elegir la funcion kernel apropiado no es una tarea facil, podria ser algo complejo, por ejemplo en las pruebas al usar altas dimensiones de Kernel, se generaban bastantes vectores soportes, lo cual hacia que la velocidad de entrenamiento disminuya drasticamente."
   ]
  },
  {
   "cell_type": "markdown",
   "metadata": {},
   "source": [
    "### Algoritmo de Red Neuronal"
   ]
  },
  {
   "cell_type": "markdown",
   "metadata": {},
   "source": [
    "Ventajas:\n",
    "- Este tipo algoritmo permite resolver problemas complejos independientemente de la cantidad de dataset\n",
    "- Despues del aprendizaje se observa que pueden inferir relaciones no vistas por el modelo, asi el modelo puede generalizar y predecir con una mejor exactitud que con respecto a la maquina vector soporte.\n",
    "\n",
    "Desventajas:\n",
    "- Existe dificultad con la configuracion de las capas y numero de neuronas para entrenar al modelo, asimismo el coste computacional es un factor que se suma ya que impacta en el tiempo en construir el modelo.\n",
    "- El tiempo que puede tardar en entrenar la red es desconocida, ademas de que no necesariamente nos asegura darnos unos resultados optimos."
   ]
  },
  {
   "cell_type": "markdown",
   "metadata": {},
   "source": [
    "## Otros comentarios"
   ]
  },
  {
   "cell_type": "markdown",
   "metadata": {},
   "source": [
    "Se concluye que el mejor modelo es el algoritmo de Red Neuronal ya que nos da mayor exactitud en la prediccion del modelo, sin embargo el coste computacional es muy elevado al momento de entrenarlo ademas de que necesitamos ir sintonizando la mejor configuracion de capas y numero de neuronas, por lo que seria mas adecuado elegirlo para problemas que posee alta no linealidad y complejidad, ya que permite aproximar cualquier funcion matematica, no obstante el algoritmo de vector soporte trabaja muy bien cuando lo entrenamos con menor cantidad de dataset, teniendo ademas la ventaja de que un menor coste computacional cuando se realiza el entrenamiento de modelo."
   ]
  }
 ],
 "metadata": {
  "kernelspec": {
   "display_name": "R",
   "language": "R",
   "name": "ir"
  },
  "language_info": {
   "codemirror_mode": "r",
   "file_extension": ".r",
   "mimetype": "text/x-r-source",
   "name": "R",
   "pygments_lexer": "r",
   "version": "3.6.1"
  },
  "toc": {
   "base_numbering": 1,
   "nav_menu": {},
   "number_sections": true,
   "sideBar": true,
   "skip_h1_title": false,
   "title_cell": "Table of Contents",
   "title_sidebar": "Contents",
   "toc_cell": false,
   "toc_position": {
    "height": "calc(100% - 180px)",
    "left": "10px",
    "top": "150px",
    "width": "295.172px"
   },
   "toc_section_display": true,
   "toc_window_display": true
  },
  "varInspector": {
   "cols": {
    "lenName": 16,
    "lenType": 16,
    "lenVar": 40
   },
   "kernels_config": {
    "python": {
     "delete_cmd_postfix": "",
     "delete_cmd_prefix": "del ",
     "library": "var_list.py",
     "varRefreshCmd": "print(var_dic_list())"
    },
    "r": {
     "delete_cmd_postfix": ") ",
     "delete_cmd_prefix": "rm(",
     "library": "var_list.r",
     "varRefreshCmd": "cat(var_dic_list()) "
    }
   },
   "types_to_exclude": [
    "module",
    "function",
    "builtin_function_or_method",
    "instance",
    "_Feature"
   ],
   "window_display": false
  }
 },
 "nbformat": 4,
 "nbformat_minor": 4
}
